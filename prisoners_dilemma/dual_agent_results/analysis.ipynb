{
 "cells": [
  {
   "cell_type": "code",
   "execution_count": null,
   "metadata": {},
   "outputs": [],
   "source": []
  },
  {
   "cell_type": "code",
   "execution_count": 164,
   "metadata": {},
   "outputs": [],
   "source": [
    "import numpy as np \n",
    "import pymdp \n",
    "from pymdp.maths import softmax, spm_cross\n",
    "from pymdp.maths import spm_log_single\n",
    "# %%\n",
    "BC = np.array([[0.5,0.5,0.5,0.5],[0.5,0.5,0.5,0.5],[0,0,0,0],[0,0,0,0]])\n",
    "BD = np.array([[0,0,0,0],[0,0,0,0],[0.5,0.5,0.5,0.5],[0.5,0.5,0.5,0.5]])\n",
    "\n",
    "s = np.array([1,0,0,0])\n",
    "\n",
    "C = np.array([0.23688282, 0.0320586 , 0.64391426, 0.08714432])\n",
    "\n",
    "def approximate_state(o):\n",
    "    if o == 0:\n",
    "        return np.array([1,0,0,0])\n",
    "    elif o == 1:\n",
    "        return np.array([0,0,0,1])\n",
    "\n",
    "def infer_state(s,o):\n",
    "    if o == 0:\n",
    "        return softmax(spm_log_single(np.array([1,0,0,0])) + spm_log_single(s))\n",
    "    elif o == 1:\n",
    "        return softmax(spm_log_single(np.array([0,0,0,1])) + spm_log_single(s))\n",
    "\n",
    "def sample_action(BC, BD, s):\n",
    "    GC = (BC.dot(s).dot(spm_log_single(BC.dot(s)) - spm_log_single(C)))\n",
    "    GD = (BD.dot(s).dot(spm_log_single(BD.dot(s)) - spm_log_single(C)))\n",
    "    a = np.argmax(softmax(np.array([-GC,-GD])))\n",
    "    \n",
    "    return a, softmax(np.array([-GC,-GD])), GC, GD\n",
    "\n",
    "def compute_prior(BC, BD,a,s):\n",
    "    if a == 0:\n",
    "        return BC.dot(s)\n",
    "        #return np.array([1,0,0,0])\n",
    "    elif a == 1:\n",
    "        return BD.dot(s)\n",
    "        #return np.array([0,0,0,1])\n",
    "\n",
    "def update_B(qBC, qBD, a, s, s_prev, lr):\n",
    "    if a == 0:\n",
    "        qBC = qBC + lr*np.outer(s_prev, s)\n",
    "    elif a == 1:\n",
    "        qBD = qBD + lr* np.outer(s_prev, s)\n",
    "    return qBC, qBD\n",
    "lr = 0.3\n",
    "\n",
    "pBC = BC\n",
    "pBD = BD\n",
    "\n",
    "def full_loop(BC, BD, pBD, pBC, lr, T):\n",
    "    actions_over_time = []\n",
    "    pBD_over_time = []\n",
    "    pBC_over_time = []\n",
    "    BD_over_time = []\n",
    "    BC_over_time = []\n",
    "    a= 1\n",
    "\n",
    "    s = np.array([0,0,0,1])\n",
    "    s_prior = s\n",
    "\n",
    "    o = 1\n",
    "    qp_over_time = []\n",
    "    actions_over_time=[]\n",
    "    for t in range(T):\n",
    "        s = infer_state(s_prior,o)\n",
    "        a, qp, GC, GD = sample_action(BC, BD, s)\n",
    "\n",
    "        qp_over_time.append([qp,-1*GC,-1*GD])\n",
    "        if t > 1:\n",
    "            pBC, pBD = update_B(pBC, pBD,a,s, s_prev, lr)\n",
    "            BC = pBC/ pBC.sum(axis=0)\n",
    "            BD = pBD/ pBD.sum(axis=0)\n",
    "        o = a\n",
    "        s_prior = compute_prior(BC,BD,a,s)\n",
    "        s_prev = s\n",
    "        actions_over_time.append(a)\n",
    "        pBD_over_time.append(pBD)\n",
    "        pBC_over_time.append(pBC)\n",
    "        BD_over_time.append(BD)\n",
    "        BC_over_time.append(BC)\n",
    "    return actions_over_time, pBD_over_time, pBC_over_time, BD_over_time, BC_over_time\n",
    "\n",
    "def approximate_loop(BC, BD, pBD, pBC, lr, T):\n",
    "    actions_over_time = []\n",
    "    pBD_over_time = []\n",
    "    pBC_over_time = []\n",
    "    BD_over_time = []\n",
    "    BC_over_time = []\n",
    "    a= 1\n",
    "    o = 1\n",
    "    qp_over_time = []\n",
    "    actions_over_time=[]\n",
    "    for t in range(T):\n",
    "        s = approximate_state(o)\n",
    "        a, qp, GC, GD = sample_action(BC, BD, s)\n",
    "\n",
    "        qp_over_time.append([qp,-1*GC,-1*GD])\n",
    "        if t > 1:\n",
    "            pBC, pBD = update_B(pBC, pBD, a,s, s_prev, lr)\n",
    "            BC = pBC/ pBC.sum(axis=0)\n",
    "            BD = pBD/ pBD.sum(axis=0)\n",
    "        o = a\n",
    "        s_prev = s\n",
    "        actions_over_time.append(a)\n",
    "        pBD_over_time.append(pBD)\n",
    "        pBC_over_time.append(pBC)\n",
    "        BD_over_time.append(BD)\n",
    "        BC_over_time.append(BC)\n",
    "    return actions_over_time, pBD_over_time, pBC_over_time, BD_over_time, BC_over_time, np.array(qp_over_time)[:,0],np.array(qp_over_time)[:,1],np.array(qp_over_time)[:,2]\n"
   ]
  },
  {
   "cell_type": "code",
   "execution_count": 157,
   "metadata": {},
   "outputs": [],
   "source": [
    "actions_over_time, pBD_over_time, pBC_over_time, BD_over_time, BC_over_time = full_loop(BC, BD, pBD, pBC,lr, T=100)"
   ]
  },
  {
   "cell_type": "code",
   "execution_count": 165,
   "metadata": {},
   "outputs": [
    {
     "name": "stderr",
     "output_type": "stream",
     "text": [
      "<ipython-input-164-600fb2f1ec25>:110: VisibleDeprecationWarning: Creating an ndarray from ragged nested sequences (which is a list-or-tuple of lists-or-tuples-or ndarrays with different lengths or shapes) is deprecated. If you meant to do this, you must specify 'dtype=object' when creating the ndarray.\n",
      "  return actions_over_time, pBD_over_time, pBC_over_time, BD_over_time, BC_over_time, np.array(qp_over_time)[:,0],np.array(qp_over_time)[:,1],np.array(qp_over_time)[:,2]\n"
     ]
    }
   ],
   "source": [
    "actions_over_time, pBD_over_time, pBC_over_time, BD_over_time, BC_over_time, qpi,GC,GD = approximate_loop(BC, BD, pBD, pBC,lr, T=100)"
   ]
  },
  {
   "cell_type": "code",
   "execution_count": 169,
   "metadata": {},
   "outputs": [
    {
     "data": {
      "text/plain": [
       "[<matplotlib.lines.Line2D at 0x7ff73825aa30>]"
      ]
     },
     "execution_count": 169,
     "metadata": {},
     "output_type": "execute_result"
    },
    {
     "data": {
      "image/png": "[encoded data removed]",
      "text/plain": [
       "<Figure size 432x288 with 1 Axes>"
      ]
     },
     "metadata": {
      "needs_background": "light"
     },
     "output_type": "display_data"
    }
   ],
   "source": [
    "plt.plot(GC[:50])\n",
    "plt.plot(GD[:50])"
   ]
  },
  {
   "cell_type": "code",
   "execution_count": 133,
   "metadata": {},
   "outputs": [],
   "source": [
    "def GD(BC,t, s, C):\n",
    "    return (BC.dot(s) + lr*s*t / ((BC.dot(s) + lr*s*t).sum(axis=0))).dot(spm_log_single(BC.dot(s) + lr*s*t / ((BC.dot(s) + lr*s*t).sum(axis=0))) - spm_log_single(C))"
   ]
  },
  {
   "cell_type": "code",
   "execution_count": 152,
   "metadata": {},
   "outputs": [],
   "source": [
    "def GC(BC,t, s, C):\n",
    "    return (BC.dot(s).dot(spm_log_single(BC.dot(s)) - spm_log_single(C)))"
   ]
  },
  {
   "cell_type": "code",
   "execution_count": 366,
   "metadata": {},
   "outputs": [],
   "source": [
    "def qBt(t,BD,BC, sD, sC,lr, tau1=11, tau2=30):\n",
    "    if t < tau1: \n",
    "        return BD + lr* np.outer(sD, sD)*t\n",
    "    elif t >= tau1 and t <= tau2:\n",
    "        if t % 2 != 0 :\n",
    "            t = tau1 + ((t-tau1)/2)\n",
    "        else:\n",
    "            t = tau1 + ((t-tau1)/2) - 0.5\n",
    "        return BD + lr* np.outer(sD, sD)*(tau1) + lr* np.outer(sD, sC)*(t-tau1) + lr* np.outer(sC, sD)*(t-tau1)\n",
    "    elif t > tau2:\n",
    "        tau2t = tau1 + ((tau2-tau1-1)/2)\n",
    "        return BD + lr* np.outer(sD, sD)*(tau1) + lr* np.outer(sD, sC)*(tau2t-tau1) + lr* np.outer(sC, sD)*(tau2t-tau1)+ lr* np.outer(sC, sC)*(t-tau2)\n",
    "\n"
   ]
  },
  {
   "cell_type": "code",
   "execution_count": 565,
   "metadata": {},
   "outputs": [],
   "source": [
    "def qBt(t,BD,BC, sD, sC,lr, tau1=11, tau2=30):\n",
    "    if t <= tau1: \n",
    "        return BC + BD + lr* np.outer(sD, sD)*(t)\n",
    "    elif t > tau1 and t < tau2:\n",
    "        if t % 2 == 0 :\n",
    "            t = tau1 + ((t-tau1)/2)+ 0.5\n",
    "        else:\n",
    "            t = tau1 + ((t-tau1)/2)\n",
    "        return BC + BD +  lr* np.outer(sD, sD)*(tau1) + lr* np.outer(sD, sC)*(t-tau1) + lr* np.outer(sC, sD)*(t-tau1)\n",
    "    elif t >= tau2:\n",
    "        tau2t = tau1 + ((tau2-tau1-1)/2)\n",
    "        return BC + BD +  lr* np.outer(sD, sD)*(tau1) + lr* np.outer(sD, sC)*(tau2t-tau1) + lr* np.outer(sC, sD)*(tau2t-tau1)+ lr* np.outer(sC, sC)*(t-tau2)\n",
    "\n"
   ]
  },
  {
   "cell_type": "code",
   "execution_count": 568,
   "metadata": {},
   "outputs": [],
   "source": [
    "qbD = []\n",
    "for t in [0] + list(range(50)):\n",
    "    qbD.append(qBt(t,BD,BC, sD=np.array([0,0,0,1]), sC = np.array([1,0,0,0]),lr = 0.3, tau1=9.7, tau2=30))"
   ]
  },
  {
   "cell_type": "code",
   "execution_count": 569,
   "metadata": {},
   "outputs": [
    {
     "data": {
      "text/plain": [
       "[<matplotlib.lines.Line2D at 0x7ff720970610>]"
      ]
     },
     "execution_count": 569,
     "metadata": {},
     "output_type": "execute_result"
    },
    {
     "data": {
      "image/png": "[encoded data removed]",
      "text/plain": [
       "<Figure size 432x288 with 1 Axes>"
      ]
     },
     "metadata": {
      "needs_background": "light"
     },
     "output_type": "display_data"
    }
   ],
   "source": [
    "plt.plot([q[-1,-1] for q in qbD])\n",
    "plt.plot([q[0,-1] for q in qbD[1:]])\n",
    "plt.plot([q[0,0] for q in qbD])\n",
    "plt.plot([q[-1,0] for q in qbD])"
   ]
  },
  {
   "cell_type": "code",
   "execution_count": 530,
   "metadata": {},
   "outputs": [
    {
     "data": {
      "text/plain": [
       "[<matplotlib.lines.Line2D at 0x7ff71fd2db20>]"
      ]
     },
     "execution_count": 530,
     "metadata": {},
     "output_type": "execute_result"
    },
    {
     "data": {
      "image/png": "[encoded data removed]",
      "text/plain": [
       "<Figure size 432x288 with 1 Axes>"
      ]
     },
     "metadata": {
      "needs_background": "light"
     },
     "output_type": "display_data"
    }
   ],
   "source": [
    "plt.plot([q[-1,-1] for q in pBD_over_time[:50]])\n",
    "plt.plot([q[-1,0] for q in pBD_over_time[:50]])\n",
    "plt.plot([q[0,-1] for q in pBC_over_time[:50]])\n",
    "plt.plot([q[0,0] for q in pBC_over_time[:50]])"
   ]
  },
  {
   "cell_type": "code",
   "execution_count": 356,
   "metadata": {},
   "outputs": [
    {
     "data": {
      "text/plain": [
       "0.5"
      ]
     },
     "execution_count": 356,
     "metadata": {},
     "output_type": "execute_result"
    }
   ],
   "source": [
    "pBD_over_time[0][-1,-1]"
   ]
  },
  {
   "cell_type": "code",
   "execution_count": null,
   "metadata": {},
   "outputs": [],
   "source": [
    "pBD_over_time[:50]][]"
   ]
  },
  {
   "cell_type": "code",
   "execution_count": null,
   "metadata": {},
   "outputs": [],
   "source": []
  },
  {
   "cell_type": "code",
   "execution_count": 153,
   "metadata": {},
   "outputs": [],
   "source": [
    "GDs = []\n",
    "for t in range(100):\n",
    "    GDs.append(GD(BD, t, s = np.array([0,0,0,1]),C=C) )\n",
    "\n",
    "GCs = []\n",
    "for t in range(100):\n",
    "    GCs.append(GC(BC, t, s = np.array([1,0,0,0]),C=C) )\n"
   ]
  },
  {
   "cell_type": "code",
   "execution_count": 160,
   "metadata": {},
   "outputs": [
    {
     "data": {
      "text/plain": [
       "[array([[0. , 0. , 0. , 0. ],\n",
       "        [0. , 0. , 0. , 0. ],\n",
       "        [0.5, 0.5, 0.5, 0.5],\n",
       "        [0.5, 0.5, 0.5, 0.5]]),\n",
       " array([[0. , 0. , 0. , 0. ],\n",
       "        [0. , 0. , 0. , 0. ],\n",
       "        [0.5, 0.5, 0.5, 0.5],\n",
       "        [0.5, 0.5, 0.5, 0.5]]),\n",
       " array([[0. , 0. , 0. , 0. ],\n",
       "        [0. , 0. , 0. , 0. ],\n",
       "        [0.5, 0.5, 0.5, 0.5],\n",
       "        [0.5, 0.5, 0.5, 0.8]]),\n",
       " array([[0. , 0. , 0. , 0. ],\n",
       "        [0. , 0. , 0. , 0. ],\n",
       "        [0.5, 0.5, 0.5, 0.5],\n",
       "        [0.5, 0.5, 0.5, 1.1]]),\n",
       " array([[0. , 0. , 0. , 0. ],\n",
       "        [0. , 0. , 0. , 0. ],\n",
       "        [0.5, 0.5, 0.5, 0.5],\n",
       "        [0.5, 0.5, 0.5, 1.4]]),\n",
       " array([[0. , 0. , 0. , 0. ],\n",
       "        [0. , 0. , 0. , 0. ],\n",
       "        [0.5, 0.5, 0.5, 0.5],\n",
       "        [0.5, 0.5, 0.5, 1.7]]),\n",
       " array([[0. , 0. , 0. , 0. ],\n",
       "        [0. , 0. , 0. , 0. ],\n",
       "        [0.5, 0.5, 0.5, 0.5],\n",
       "        [0.5, 0.5, 0.5, 2. ]]),\n",
       " array([[0. , 0. , 0. , 0. ],\n",
       "        [0. , 0. , 0. , 0. ],\n",
       "        [0.5, 0.5, 0.5, 0.5],\n",
       "        [0.5, 0.5, 0.5, 2.3]]),\n",
       " array([[0. , 0. , 0. , 0. ],\n",
       "        [0. , 0. , 0. , 0. ],\n",
       "        [0.5, 0.5, 0.5, 0.5],\n",
       "        [0.5, 0.5, 0.5, 2.6]]),\n",
       " array([[0. , 0. , 0. , 0. ],\n",
       "        [0. , 0. , 0. , 0. ],\n",
       "        [0.5, 0.5, 0.5, 0.5],\n",
       "        [0.5, 0.5, 0.5, 2.9]]),\n",
       " array([[0. , 0. , 0. , 0. ],\n",
       "        [0. , 0. , 0. , 0. ],\n",
       "        [0.5, 0.5, 0.5, 0.5],\n",
       "        [0.5, 0.5, 0.5, 3.2]]),\n",
       " array([[0. , 0. , 0. , 0. ],\n",
       "        [0. , 0. , 0. , 0. ],\n",
       "        [0.5, 0.5, 0.5, 0.5],\n",
       "        [0.5, 0.5, 0.5, 3.2]]),\n",
       " array([[0. , 0. , 0. , 0. ],\n",
       "        [0. , 0. , 0. , 0. ],\n",
       "        [0.5, 0.5, 0.5, 0.5],\n",
       "        [0.8, 0.5, 0.5, 3.2]]),\n",
       " array([[0. , 0. , 0. , 0. ],\n",
       "        [0. , 0. , 0. , 0. ],\n",
       "        [0.5, 0.5, 0.5, 0.5],\n",
       "        [0.8, 0.5, 0.5, 3.2]]),\n",
       " array([[0. , 0. , 0. , 0. ],\n",
       "        [0. , 0. , 0. , 0. ],\n",
       "        [0.5, 0.5, 0.5, 0.5],\n",
       "        [1.1, 0.5, 0.5, 3.2]]),\n",
       " array([[0. , 0. , 0. , 0. ],\n",
       "        [0. , 0. , 0. , 0. ],\n",
       "        [0.5, 0.5, 0.5, 0.5],\n",
       "        [1.1, 0.5, 0.5, 3.2]]),\n",
       " array([[0. , 0. , 0. , 0. ],\n",
       "        [0. , 0. , 0. , 0. ],\n",
       "        [0.5, 0.5, 0.5, 0.5],\n",
       "        [1.4, 0.5, 0.5, 3.2]]),\n",
       " array([[0. , 0. , 0. , 0. ],\n",
       "        [0. , 0. , 0. , 0. ],\n",
       "        [0.5, 0.5, 0.5, 0.5],\n",
       "        [1.4, 0.5, 0.5, 3.2]]),\n",
       " array([[0. , 0. , 0. , 0. ],\n",
       "        [0. , 0. , 0. , 0. ],\n",
       "        [0.5, 0.5, 0.5, 0.5],\n",
       "        [1.7, 0.5, 0.5, 3.2]]),\n",
       " array([[0. , 0. , 0. , 0. ],\n",
       "        [0. , 0. , 0. , 0. ],\n",
       "        [0.5, 0.5, 0.5, 0.5],\n",
       "        [1.7, 0.5, 0.5, 3.2]]),\n",
       " array([[0. , 0. , 0. , 0. ],\n",
       "        [0. , 0. , 0. , 0. ],\n",
       "        [0.5, 0.5, 0.5, 0.5],\n",
       "        [2. , 0.5, 0.5, 3.2]]),\n",
       " array([[0. , 0. , 0. , 0. ],\n",
       "        [0. , 0. , 0. , 0. ],\n",
       "        [0.5, 0.5, 0.5, 0.5],\n",
       "        [2. , 0.5, 0.5, 3.2]]),\n",
       " array([[0. , 0. , 0. , 0. ],\n",
       "        [0. , 0. , 0. , 0. ],\n",
       "        [0.5, 0.5, 0.5, 0.5],\n",
       "        [2.3, 0.5, 0.5, 3.2]]),\n",
       " array([[0. , 0. , 0. , 0. ],\n",
       "        [0. , 0. , 0. , 0. ],\n",
       "        [0.5, 0.5, 0.5, 0.5],\n",
       "        [2.3, 0.5, 0.5, 3.2]]),\n",
       " array([[0. , 0. , 0. , 0. ],\n",
       "        [0. , 0. , 0. , 0. ],\n",
       "        [0.5, 0.5, 0.5, 0.5],\n",
       "        [2.6, 0.5, 0.5, 3.2]]),\n",
       " array([[0. , 0. , 0. , 0. ],\n",
       "        [0. , 0. , 0. , 0. ],\n",
       "        [0.5, 0.5, 0.5, 0.5],\n",
       "        [2.6, 0.5, 0.5, 3.2]]),\n",
       " array([[0. , 0. , 0. , 0. ],\n",
       "        [0. , 0. , 0. , 0. ],\n",
       "        [0.5, 0.5, 0.5, 0.5],\n",
       "        [2.9, 0.5, 0.5, 3.2]]),\n",
       " array([[0. , 0. , 0. , 0. ],\n",
       "        [0. , 0. , 0. , 0. ],\n",
       "        [0.5, 0.5, 0.5, 0.5],\n",
       "        [2.9, 0.5, 0.5, 3.2]]),\n",
       " array([[0. , 0. , 0. , 0. ],\n",
       "        [0. , 0. , 0. , 0. ],\n",
       "        [0.5, 0.5, 0.5, 0.5],\n",
       "        [3.2, 0.5, 0.5, 3.2]]),\n",
       " array([[0. , 0. , 0. , 0. ],\n",
       "        [0. , 0. , 0. , 0. ],\n",
       "        [0.5, 0.5, 0.5, 0.5],\n",
       "        [3.2, 0.5, 0.5, 3.2]]),\n",
       " array([[0. , 0. , 0. , 0. ],\n",
       "        [0. , 0. , 0. , 0. ],\n",
       "        [0.5, 0.5, 0.5, 0.5],\n",
       "        [3.2, 0.5, 0.5, 3.2]]),\n",
       " array([[0. , 0. , 0. , 0. ],\n",
       "        [0. , 0. , 0. , 0. ],\n",
       "        [0.5, 0.5, 0.5, 0.5],\n",
       "        [3.2, 0.5, 0.5, 3.2]]),\n",
       " array([[0. , 0. , 0. , 0. ],\n",
       "        [0. , 0. , 0. , 0. ],\n",
       "        [0.5, 0.5, 0.5, 0.5],\n",
       "        [3.2, 0.5, 0.5, 3.2]]),\n",
       " array([[0. , 0. , 0. , 0. ],\n",
       "        [0. , 0. , 0. , 0. ],\n",
       "        [0.5, 0.5, 0.5, 0.5],\n",
       "        [3.2, 0.5, 0.5, 3.2]]),\n",
       " array([[0. , 0. , 0. , 0. ],\n",
       "        [0. , 0. , 0. , 0. ],\n",
       "        [0.5, 0.5, 0.5, 0.5],\n",
       "        [3.2, 0.5, 0.5, 3.2]]),\n",
       " array([[0. , 0. , 0. , 0. ],\n",
       "        [0. , 0. , 0. , 0. ],\n",
       "        [0.5, 0.5, 0.5, 0.5],\n",
       "        [3.2, 0.5, 0.5, 3.2]]),\n",
       " array([[0. , 0. , 0. , 0. ],\n",
       "        [0. , 0. , 0. , 0. ],\n",
       "        [0.5, 0.5, 0.5, 0.5],\n",
       "        [3.2, 0.5, 0.5, 3.2]]),\n",
       " array([[0. , 0. , 0. , 0. ],\n",
       "        [0. , 0. , 0. , 0. ],\n",
       "        [0.5, 0.5, 0.5, 0.5],\n",
       "        [3.2, 0.5, 0.5, 3.2]]),\n",
       " array([[0. , 0. , 0. , 0. ],\n",
       "        [0. , 0. , 0. , 0. ],\n",
       "        [0.5, 0.5, 0.5, 0.5],\n",
       "        [3.2, 0.5, 0.5, 3.2]]),\n",
       " array([[0. , 0. , 0. , 0. ],\n",
       "        [0. , 0. , 0. , 0. ],\n",
       "        [0.5, 0.5, 0.5, 0.5],\n",
       "        [3.2, 0.5, 0.5, 3.2]]),\n",
       " array([[0. , 0. , 0. , 0. ],\n",
       "        [0. , 0. , 0. , 0. ],\n",
       "        [0.5, 0.5, 0.5, 0.5],\n",
       "        [3.2, 0.5, 0.5, 3.2]]),\n",
       " array([[0. , 0. , 0. , 0. ],\n",
       "        [0. , 0. , 0. , 0. ],\n",
       "        [0.5, 0.5, 0.5, 0.5],\n",
       "        [3.2, 0.5, 0.5, 3.2]]),\n",
       " array([[0. , 0. , 0. , 0. ],\n",
       "        [0. , 0. , 0. , 0. ],\n",
       "        [0.5, 0.5, 0.5, 0.5],\n",
       "        [3.2, 0.5, 0.5, 3.2]]),\n",
       " array([[0. , 0. , 0. , 0. ],\n",
       "        [0. , 0. , 0. , 0. ],\n",
       "        [0.5, 0.5, 0.5, 0.5],\n",
       "        [3.2, 0.5, 0.5, 3.2]]),\n",
       " array([[0. , 0. , 0. , 0. ],\n",
       "        [0. , 0. , 0. , 0. ],\n",
       "        [0.5, 0.5, 0.5, 0.5],\n",
       "        [3.2, 0.5, 0.5, 3.2]]),\n",
       " array([[0. , 0. , 0. , 0. ],\n",
       "        [0. , 0. , 0. , 0. ],\n",
       "        [0.5, 0.5, 0.5, 0.5],\n",
       "        [3.2, 0.5, 0.5, 3.2]]),\n",
       " array([[0. , 0. , 0. , 0. ],\n",
       "        [0. , 0. , 0. , 0. ],\n",
       "        [0.5, 0.5, 0.5, 0.5],\n",
       "        [3.2, 0.5, 0.5, 3.2]]),\n",
       " array([[0. , 0. , 0. , 0. ],\n",
       "        [0. , 0. , 0. , 0. ],\n",
       "        [0.5, 0.5, 0.5, 0.5],\n",
       "        [3.2, 0.5, 0.5, 3.2]]),\n",
       " array([[0. , 0. , 0. , 0. ],\n",
       "        [0. , 0. , 0. , 0. ],\n",
       "        [0.5, 0.5, 0.5, 0.5],\n",
       "        [3.2, 0.5, 0.5, 3.2]]),\n",
       " array([[0. , 0. , 0. , 0. ],\n",
       "        [0. , 0. , 0. , 0. ],\n",
       "        [0.5, 0.5, 0.5, 0.5],\n",
       "        [3.2, 0.5, 0.5, 3.2]]),\n",
       " array([[0. , 0. , 0. , 0. ],\n",
       "        [0. , 0. , 0. , 0. ],\n",
       "        [0.5, 0.5, 0.5, 0.5],\n",
       "        [3.2, 0.5, 0.5, 3.2]]),\n",
       " array([[0. , 0. , 0. , 0. ],\n",
       "        [0. , 0. , 0. , 0. ],\n",
       "        [0.5, 0.5, 0.5, 0.5],\n",
       "        [3.2, 0.5, 0.5, 3.2]]),\n",
       " array([[0. , 0. , 0. , 0. ],\n",
       "        [0. , 0. , 0. , 0. ],\n",
       "        [0.5, 0.5, 0.5, 0.5],\n",
       "        [3.2, 0.5, 0.5, 3.2]]),\n",
       " array([[0. , 0. , 0. , 0. ],\n",
       "        [0. , 0. , 0. , 0. ],\n",
       "        [0.5, 0.5, 0.5, 0.5],\n",
       "        [3.2, 0.5, 0.5, 3.2]]),\n",
       " array([[0. , 0. , 0. , 0. ],\n",
       "        [0. , 0. , 0. , 0. ],\n",
       "        [0.5, 0.5, 0.5, 0.5],\n",
       "        [3.2, 0.5, 0.5, 3.2]]),\n",
       " array([[0. , 0. , 0. , 0. ],\n",
       "        [0. , 0. , 0. , 0. ],\n",
       "        [0.5, 0.5, 0.5, 0.5],\n",
       "        [3.2, 0.5, 0.5, 3.2]]),\n",
       " array([[0. , 0. , 0. , 0. ],\n",
       "        [0. , 0. , 0. , 0. ],\n",
       "        [0.5, 0.5, 0.5, 0.5],\n",
       "        [3.2, 0.5, 0.5, 3.2]]),\n",
       " array([[0. , 0. , 0. , 0. ],\n",
       "        [0. , 0. , 0. , 0. ],\n",
       "        [0.5, 0.5, 0.5, 0.5],\n",
       "        [3.2, 0.5, 0.5, 3.2]]),\n",
       " array([[0. , 0. , 0. , 0. ],\n",
       "        [0. , 0. , 0. , 0. ],\n",
       "        [0.5, 0.5, 0.5, 0.5],\n",
       "        [3.2, 0.5, 0.5, 3.2]]),\n",
       " array([[0. , 0. , 0. , 0. ],\n",
       "        [0. , 0. , 0. , 0. ],\n",
       "        [0.5, 0.5, 0.5, 0.5],\n",
       "        [3.2, 0.5, 0.5, 3.2]]),\n",
       " array([[0. , 0. , 0. , 0. ],\n",
       "        [0. , 0. , 0. , 0. ],\n",
       "        [0.5, 0.5, 0.5, 0.5],\n",
       "        [3.2, 0.5, 0.5, 3.2]]),\n",
       " array([[0. , 0. , 0. , 0. ],\n",
       "        [0. , 0. , 0. , 0. ],\n",
       "        [0.5, 0.5, 0.5, 0.5],\n",
       "        [3.2, 0.5, 0.5, 3.2]]),\n",
       " array([[0. , 0. , 0. , 0. ],\n",
       "        [0. , 0. , 0. , 0. ],\n",
       "        [0.5, 0.5, 0.5, 0.5],\n",
       "        [3.2, 0.5, 0.5, 3.2]]),\n",
       " array([[0. , 0. , 0. , 0. ],\n",
       "        [0. , 0. , 0. , 0. ],\n",
       "        [0.5, 0.5, 0.5, 0.5],\n",
       "        [3.2, 0.5, 0.5, 3.2]]),\n",
       " array([[0. , 0. , 0. , 0. ],\n",
       "        [0. , 0. , 0. , 0. ],\n",
       "        [0.5, 0.5, 0.5, 0.5],\n",
       "        [3.2, 0.5, 0.5, 3.2]]),\n",
       " array([[0. , 0. , 0. , 0. ],\n",
       "        [0. , 0. , 0. , 0. ],\n",
       "        [0.5, 0.5, 0.5, 0.5],\n",
       "        [3.2, 0.5, 0.5, 3.2]]),\n",
       " array([[0. , 0. , 0. , 0. ],\n",
       "        [0. , 0. , 0. , 0. ],\n",
       "        [0.5, 0.5, 0.5, 0.5],\n",
       "        [3.2, 0.5, 0.5, 3.2]]),\n",
       " array([[0. , 0. , 0. , 0. ],\n",
       "        [0. , 0. , 0. , 0. ],\n",
       "        [0.5, 0.5, 0.5, 0.5],\n",
       "        [3.2, 0.5, 0.5, 3.2]]),\n",
       " array([[0. , 0. , 0. , 0. ],\n",
       "        [0. , 0. , 0. , 0. ],\n",
       "        [0.5, 0.5, 0.5, 0.5],\n",
       "        [3.2, 0.5, 0.5, 3.2]]),\n",
       " array([[0. , 0. , 0. , 0. ],\n",
       "        [0. , 0. , 0. , 0. ],\n",
       "        [0.5, 0.5, 0.5, 0.5],\n",
       "        [3.2, 0.5, 0.5, 3.2]]),\n",
       " array([[0. , 0. , 0. , 0. ],\n",
       "        [0. , 0. , 0. , 0. ],\n",
       "        [0.5, 0.5, 0.5, 0.5],\n",
       "        [3.2, 0.5, 0.5, 3.2]]),\n",
       " array([[0. , 0. , 0. , 0. ],\n",
       "        [0. , 0. , 0. , 0. ],\n",
       "        [0.5, 0.5, 0.5, 0.5],\n",
       "        [3.2, 0.5, 0.5, 3.2]]),\n",
       " array([[0. , 0. , 0. , 0. ],\n",
       "        [0. , 0. , 0. , 0. ],\n",
       "        [0.5, 0.5, 0.5, 0.5],\n",
       "        [3.2, 0.5, 0.5, 3.2]]),\n",
       " array([[0. , 0. , 0. , 0. ],\n",
       "        [0. , 0. , 0. , 0. ],\n",
       "        [0.5, 0.5, 0.5, 0.5],\n",
       "        [3.2, 0.5, 0.5, 3.2]]),\n",
       " array([[0. , 0. , 0. , 0. ],\n",
       "        [0. , 0. , 0. , 0. ],\n",
       "        [0.5, 0.5, 0.5, 0.5],\n",
       "        [3.2, 0.5, 0.5, 3.2]]),\n",
       " array([[0. , 0. , 0. , 0. ],\n",
       "        [0. , 0. , 0. , 0. ],\n",
       "        [0.5, 0.5, 0.5, 0.5],\n",
       "        [3.2, 0.5, 0.5, 3.2]]),\n",
       " array([[0. , 0. , 0. , 0. ],\n",
       "        [0. , 0. , 0. , 0. ],\n",
       "        [0.5, 0.5, 0.5, 0.5],\n",
       "        [3.2, 0.5, 0.5, 3.2]]),\n",
       " array([[0. , 0. , 0. , 0. ],\n",
       "        [0. , 0. , 0. , 0. ],\n",
       "        [0.5, 0.5, 0.5, 0.5],\n",
       "        [3.2, 0.5, 0.5, 3.2]]),\n",
       " array([[0. , 0. , 0. , 0. ],\n",
       "        [0. , 0. , 0. , 0. ],\n",
       "        [0.5, 0.5, 0.5, 0.5],\n",
       "        [3.2, 0.5, 0.5, 3.2]]),\n",
       " array([[0. , 0. , 0. , 0. ],\n",
       "        [0. , 0. , 0. , 0. ],\n",
       "        [0.5, 0.5, 0.5, 0.5],\n",
       "        [3.2, 0.5, 0.5, 3.2]]),\n",
       " array([[0. , 0. , 0. , 0. ],\n",
       "        [0. , 0. , 0. , 0. ],\n",
       "        [0.5, 0.5, 0.5, 0.5],\n",
       "        [3.2, 0.5, 0.5, 3.2]]),\n",
       " array([[0. , 0. , 0. , 0. ],\n",
       "        [0. , 0. , 0. , 0. ],\n",
       "        [0.5, 0.5, 0.5, 0.5],\n",
       "        [3.2, 0.5, 0.5, 3.2]]),\n",
       " array([[0. , 0. , 0. , 0. ],\n",
       "        [0. , 0. , 0. , 0. ],\n",
       "        [0.5, 0.5, 0.5, 0.5],\n",
       "        [3.2, 0.5, 0.5, 3.2]]),\n",
       " array([[0. , 0. , 0. , 0. ],\n",
       "        [0. , 0. , 0. , 0. ],\n",
       "        [0.5, 0.5, 0.5, 0.5],\n",
       "        [3.2, 0.5, 0.5, 3.2]]),\n",
       " array([[0. , 0. , 0. , 0. ],\n",
       "        [0. , 0. , 0. , 0. ],\n",
       "        [0.5, 0.5, 0.5, 0.5],\n",
       "        [3.2, 0.5, 0.5, 3.2]]),\n",
       " array([[0. , 0. , 0. , 0. ],\n",
       "        [0. , 0. , 0. , 0. ],\n",
       "        [0.5, 0.5, 0.5, 0.5],\n",
       "        [3.2, 0.5, 0.5, 3.2]]),\n",
       " array([[0. , 0. , 0. , 0. ],\n",
       "        [0. , 0. , 0. , 0. ],\n",
       "        [0.5, 0.5, 0.5, 0.5],\n",
       "        [3.2, 0.5, 0.5, 3.2]]),\n",
       " array([[0. , 0. , 0. , 0. ],\n",
       "        [0. , 0. , 0. , 0. ],\n",
       "        [0.5, 0.5, 0.5, 0.5],\n",
       "        [3.2, 0.5, 0.5, 3.2]]),\n",
       " array([[0. , 0. , 0. , 0. ],\n",
       "        [0. , 0. , 0. , 0. ],\n",
       "        [0.5, 0.5, 0.5, 0.5],\n",
       "        [3.2, 0.5, 0.5, 3.2]]),\n",
       " array([[0. , 0. , 0. , 0. ],\n",
       "        [0. , 0. , 0. , 0. ],\n",
       "        [0.5, 0.5, 0.5, 0.5],\n",
       "        [3.2, 0.5, 0.5, 3.2]]),\n",
       " array([[0. , 0. , 0. , 0. ],\n",
       "        [0. , 0. , 0. , 0. ],\n",
       "        [0.5, 0.5, 0.5, 0.5],\n",
       "        [3.2, 0.5, 0.5, 3.2]]),\n",
       " array([[0. , 0. , 0. , 0. ],\n",
       "        [0. , 0. , 0. , 0. ],\n",
       "        [0.5, 0.5, 0.5, 0.5],\n",
       "        [3.2, 0.5, 0.5, 3.2]]),\n",
       " array([[0. , 0. , 0. , 0. ],\n",
       "        [0. , 0. , 0. , 0. ],\n",
       "        [0.5, 0.5, 0.5, 0.5],\n",
       "        [3.2, 0.5, 0.5, 3.2]]),\n",
       " array([[0. , 0. , 0. , 0. ],\n",
       "        [0. , 0. , 0. , 0. ],\n",
       "        [0.5, 0.5, 0.5, 0.5],\n",
       "        [3.2, 0.5, 0.5, 3.2]]),\n",
       " array([[0. , 0. , 0. , 0. ],\n",
       "        [0. , 0. , 0. , 0. ],\n",
       "        [0.5, 0.5, 0.5, 0.5],\n",
       "        [3.2, 0.5, 0.5, 3.2]]),\n",
       " array([[0. , 0. , 0. , 0. ],\n",
       "        [0. , 0. , 0. , 0. ],\n",
       "        [0.5, 0.5, 0.5, 0.5],\n",
       "        [3.2, 0.5, 0.5, 3.2]]),\n",
       " array([[0. , 0. , 0. , 0. ],\n",
       "        [0. , 0. , 0. , 0. ],\n",
       "        [0.5, 0.5, 0.5, 0.5],\n",
       "        [3.2, 0.5, 0.5, 3.2]]),\n",
       " array([[0. , 0. , 0. , 0. ],\n",
       "        [0. , 0. , 0. , 0. ],\n",
       "        [0.5, 0.5, 0.5, 0.5],\n",
       "        [3.2, 0.5, 0.5, 3.2]]),\n",
       " array([[0. , 0. , 0. , 0. ],\n",
       "        [0. , 0. , 0. , 0. ],\n",
       "        [0.5, 0.5, 0.5, 0.5],\n",
       "        [3.2, 0.5, 0.5, 3.2]]),\n",
       " array([[0. , 0. , 0. , 0. ],\n",
       "        [0. , 0. , 0. , 0. ],\n",
       "        [0.5, 0.5, 0.5, 0.5],\n",
       "        [3.2, 0.5, 0.5, 3.2]])]"
      ]
     },
     "execution_count": 160,
     "metadata": {},
     "output_type": "execute_result"
    }
   ],
   "source": [
    "pBD_over_time"
   ]
  },
  {
   "cell_type": "code",
   "execution_count": 156,
   "metadata": {},
   "outputs": [
    {
     "data": {
      "text/plain": [
       "[<matplotlib.lines.Line2D at 0x7ff737411040>]"
      ]
     },
     "execution_count": 156,
     "metadata": {},
     "output_type": "execute_result"
    },
    {
     "data": {
      "image/png": "[encoded data removed]",
      "text/plain": [
       "<Figure size 432x288 with 1 Axes>"
      ]
     },
     "metadata": {
      "needs_background": "light"
     },
     "output_type": "display_data"
    }
   ],
   "source": [
    "import matplotlib.pyplot as plt \n",
    "plt.plot(GDs[:6])\n",
    "plt.plot(GCs[:6])"
   ]
  },
  {
   "cell_type": "code",
   "execution_count": 132,
   "metadata": {},
   "outputs": [
    {
     "data": {
      "text/plain": [
       "array([0, 0, 0, 1])"
      ]
     },
     "execution_count": 132,
     "metadata": {},
     "output_type": "execute_result"
    }
   ],
   "source": [
    "sD.dot(np.array([0,0,0,1]))"
   ]
  },
  {
   "cell_type": "code",
   "execution_count": 129,
   "metadata": {},
   "outputs": [
    {
     "data": {
      "text/plain": [
       "array([[0. , 0. , 0. , 0. ],\n",
       "       [0. , 0. , 0. , 0. ],\n",
       "       [0.5, 0.5, 0.5, 0.5],\n",
       "       [0.5, 0.5, 0.5, 1.1]])"
      ]
     },
     "execution_count": 129,
     "metadata": {},
     "output_type": "execute_result"
    }
   ],
   "source": [
    "pBD + 2*(lr*sD)"
   ]
  },
  {
   "cell_type": "code",
   "execution_count": 119,
   "metadata": {},
   "outputs": [
    {
     "data": {
      "text/plain": [
       "0.3"
      ]
     },
     "execution_count": 119,
     "metadata": {},
     "output_type": "execute_result"
    }
   ],
   "source": [
    "lr"
   ]
  },
  {
   "cell_type": "code",
   "execution_count": 69,
   "metadata": {},
   "outputs": [],
   "source": [
    "pBD1 = [x[-1,-1] for x in pBD_over_time]\n",
    "pBD2 = [x[-1,0] for x in pBD_over_time]"
   ]
  },
  {
   "cell_type": "code",
   "execution_count": 110,
   "metadata": {},
   "outputs": [],
   "source": [
    "sD = np.outer(np.array([0,0,0,1]), np.array([0,0,0,1]))"
   ]
  },
  {
   "cell_type": "code",
   "execution_count": 112,
   "metadata": {},
   "outputs": [
    {
     "data": {
      "text/plain": [
       "array([[0, 0, 0, 0],\n",
       "       [0, 0, 0, 0],\n",
       "       [0, 0, 0, 0],\n",
       "       [0, 0, 0, 1]])"
      ]
     },
     "execution_count": 112,
     "metadata": {},
     "output_type": "execute_result"
    }
   ],
   "source": [
    "sD"
   ]
  },
  {
   "cell_type": "code",
   "execution_count": 70,
   "metadata": {},
   "outputs": [],
   "source": [
    "collect_PBD = []\n",
    "collect_PBD2 = []\n",
    "collect_BD = []\n",
    "collect_PBC = []\n",
    "\n",
    "for i in range(5):\n",
    "    collect_PBD.append(simple(0.5,i))\n",
    "    collect_BD.append(simple(1,i)/(1+simple(1,i)))\n",
    "\n",
    "for i in range(10):\n",
    "    collect_PBD.append(collect_PBD[-1])\n",
    "\n",
    "for i in [0,0,1,1,2,2,3,3,4,4,5,5,6,6]:\n",
    "    collect_PBD2.append(simple(0,i))\n"
   ]
  },
  {
   "cell_type": "code",
   "execution_count": 71,
   "metadata": {},
   "outputs": [
    {
     "data": {
      "text/plain": [
       "[<matplotlib.lines.Line2D at 0x7fba6554ce80>]"
      ]
     },
     "execution_count": 71,
     "metadata": {},
     "output_type": "execute_result"
    },
    {
     "data": {
      "image/png": "[encoded data removed]",
      "text/plain": [
       "<Figure size 432x288 with 1 Axes>"
      ]
     },
     "metadata": {
      "needs_background": "light"
     },
     "output_type": "display_data"
    }
   ],
   "source": [
    "import matplotlib.pyplot as plt\n",
    "plt.plot(collect_PBD)\n",
    "plt.plot(pBD1)"
   ]
  },
  {
   "cell_type": "code",
   "execution_count": 72,
   "metadata": {},
   "outputs": [],
   "source": [
    "prior_BC = np.array([[0.5,0.5,0.5,0.5],[0.5,0.5,0.5,0.5],[0,0,0,0],[0,0,0,0]])\n",
    "sC = np.array([1,0,0,0])\n",
    "GC = -(prior_BC.dot(sC).dot(spm_log_single(prior_BC.dot(sC)) - spm_log_single(C)))\n"
   ]
  },
  {
   "cell_type": "code",
   "execution_count": 131,
   "metadata": {},
   "outputs": [
    {
     "data": {
      "text/plain": [
       "array([-1.44018969, -3.4401898 , -0.4401897 , -2.44018968])"
      ]
     },
     "execution_count": 131,
     "metadata": {},
     "output_type": "execute_result"
    }
   ],
   "source": [
    "spm_log_single(C)"
   ]
  },
  {
   "cell_type": "code",
   "execution_count": 129,
   "metadata": {},
   "outputs": [
    {
     "name": "stdout",
     "output_type": "stream",
     "text": [
      "[0.5 0.5 0.  0. ]\n",
      "[ -0.69314718  -0.69314718 -36.84136149 -36.84136149]\n"
     ]
    }
   ],
   "source": [
    "print(prior_BC.dot(sC))\n",
    "print(spm_log_single(prior_BC.dot(sC)))"
   ]
  },
  {
   "cell_type": "code",
   "execution_count": 130,
   "metadata": {},
   "outputs": [
    {
     "name": "stdout",
     "output_type": "stream",
     "text": [
      "[0.  0.  0.5 0.5]\n",
      "[-36.84136149 -36.84136149  -0.69314718  -0.69314718]\n"
     ]
    }
   ],
   "source": [
    "print(prior_BD.dot(sD))\n",
    "print(spm_log_single(prior_BD.dot(sD)))"
   ]
  },
  {
   "cell_type": "code",
   "execution_count": 78,
   "metadata": {},
   "outputs": [
    {
     "data": {
      "text/plain": [
       "array([  0.74704251,   2.74704262, -36.40117179, -34.4011718 ])"
      ]
     },
     "execution_count": 78,
     "metadata": {},
     "output_type": "execute_result"
    }
   ],
   "source": [
    "spm_log_single(prior_BC.dot(sC)) - spm_log_single(C)"
   ]
  },
  {
   "cell_type": "code",
   "execution_count": 83,
   "metadata": {},
   "outputs": [],
   "source": [
    "prior_BD = np.array([[0,0,0,0],[0,0,0,0],[0.5,0.5,0.5,0.5],[0.5,0.5,0.5,0.5]])\n",
    "sD = np.array([0,0,0,1])\n",
    "GD = (prior_BD.dot(sD).dot(spm_log_single(prior_BD.dot(sD)) - spm_log_single(C)))\n"
   ]
  },
  {
   "cell_type": "code",
   "execution_count": 132,
   "metadata": {},
   "outputs": [],
   "source": [
    "def GC_t(t):\n",
    "    return pB_t(t)*(spm_log_single(pB_t(t))-spm_log_single(C[1])) + (1-pB_t(t)) * (spm_log_single((1-pB_t(t)))-spm_log_single(C[0]))"
   ]
  },
  {
   "cell_type": "code",
   "execution_count": 114,
   "metadata": {},
   "outputs": [],
   "source": [
    "def GD_t(t):\n",
    "    return pB_t(t)*(spm_log_single(pB_t(t))-spm_log_single(C[3])) + (1-pB_t(t)) * (spm_log_single((1-pB_t(t)))-spm_log_single(C[2]))"
   ]
  },
  {
   "cell_type": "code",
   "execution_count": 147,
   "metadata": {},
   "outputs": [
    {
     "data": {
      "text/plain": [
       "-8023094.09942872"
      ]
     },
     "execution_count": 147,
     "metadata": {},
     "output_type": "execute_result"
    }
   ],
   "source": [
    "(-spm_log_single(C[2]) + spm_log_single(C[0])) / (-spm_log_single(C[1]) + spm_log_single(C[3]) - spm_log_single(C[2]) + spm_log_single(C[0]))"
   ]
  },
  {
   "cell_type": "code",
   "execution_count": 148,
   "metadata": {},
   "outputs": [
    {
     "data": {
      "text/plain": [
       "-0.9999999921105411"
      ]
     },
     "execution_count": 148,
     "metadata": {},
     "output_type": "execute_result"
    }
   ],
   "source": [
    "-spm_log_single(C[2]) + spm_log_single(C[0])"
   ]
  },
  {
   "cell_type": "code",
   "execution_count": 151,
   "metadata": {},
   "outputs": [
    {
     "data": {
      "text/plain": [
       "1.2464019238933588e-07"
      ]
     },
     "execution_count": 151,
     "metadata": {},
     "output_type": "execute_result"
    }
   ],
   "source": [
    "- 1 * spm_log_single(C[1]) + spm_log_single(C[3]) - spm_log_single(C[2]) + spm_log_single(C[0])"
   ]
  },
  {
   "cell_type": "code",
   "execution_count": 154,
   "metadata": {},
   "outputs": [
    {
     "data": {
      "text/plain": [
       "0.8571428571428571"
      ]
     },
     "execution_count": 154,
     "metadata": {},
     "output_type": "execute_result"
    }
   ],
   "source": [
    "(1+5)/(2+5)"
   ]
  },
  {
   "cell_type": "code",
   "execution_count": 152,
   "metadata": {},
   "outputs": [
    {
     "data": {
      "text/plain": [
       "1.0000001167507335"
      ]
     },
     "execution_count": 152,
     "metadata": {},
     "output_type": "execute_result"
    }
   ],
   "source": [
    "- 1 * spm_log_single(C[1]) + spm_log_single(C[3]) "
   ]
  },
  {
   "cell_type": "code",
   "execution_count": 153,
   "metadata": {},
   "outputs": [
    {
     "data": {
      "text/plain": [
       "-0.9999999921105411"
      ]
     },
     "execution_count": 153,
     "metadata": {},
     "output_type": "execute_result"
    }
   ],
   "source": [
    "- spm_log_single(C[2]) + spm_log_single(C[0])"
   ]
  },
  {
   "cell_type": "code",
   "execution_count": 144,
   "metadata": {},
   "outputs": [
    {
     "data": {
      "text/plain": [
       "1.2464019238933588e-07"
      ]
     },
     "execution_count": 144,
     "metadata": {},
     "output_type": "execute_result"
    }
   ],
   "source": [
    "(-spm_log_single(C[1]) + spm_log_single(C[3]) - spm_log_single(C[2]) + spm_log_single(C[0]))"
   ]
  },
  {
   "cell_type": "code",
   "execution_count": 146,
   "metadata": {},
   "outputs": [
    {
     "data": {
      "text/plain": [
       "0.9999998832492801"
      ]
     },
     "execution_count": 146,
     "metadata": {},
     "output_type": "execute_result"
    }
   ],
   "source": [
    "1 / (-spm_log_single(C[1]) + spm_log_single(C[3]) )"
   ]
  },
  {
   "cell_type": "code",
   "execution_count": 134,
   "metadata": {},
   "outputs": [
    {
     "name": "stdout",
     "output_type": "stream",
     "text": [
      "0.7470425106965353\n",
      "1.7470425651271726\n"
     ]
    }
   ],
   "source": [
    "print(GD_t(0))\n",
    "print(GC_t(0))"
   ]
  },
  {
   "cell_type": "code",
   "execution_count": 117,
   "metadata": {},
   "outputs": [
    {
     "data": {
      "text/plain": [
       "[<matplotlib.lines.Line2D at 0x7fba6563b5b0>]"
      ]
     },
     "execution_count": 117,
     "metadata": {},
     "output_type": "execute_result"
    },
    {
     "data": {
      "image/png": "[encoded data removed]",
      "text/plain": [
       "<Figure size 432x288 with 1 Axes>"
      ]
     },
     "metadata": {
      "needs_background": "light"
     },
     "output_type": "display_data"
    }
   ],
   "source": [
    "plt.plot([0.5,0.5,0.5,0.5] + collect_PBD2)"
   ]
  },
  {
   "cell_type": "code",
   "execution_count": 118,
   "metadata": {},
   "outputs": [
    {
     "data": {
      "text/plain": [
       "[<matplotlib.lines.Line2D at 0x7fba652fcb80>]"
      ]
     },
     "execution_count": 118,
     "metadata": {},
     "output_type": "execute_result"
    },
    {
     "data": {
      "image/png": "[encoded data removed]",
      "text/plain": [
       "<Figure size 432x288 with 1 Axes>"
      ]
     },
     "metadata": {
      "needs_background": "light"
     },
     "output_type": "display_data"
    }
   ],
   "source": [
    "plt.plot(actions_over_time)"
   ]
  },
  {
   "cell_type": "code",
   "execution_count": 743,
   "metadata": {},
   "outputs": [
    {
     "data": {
      "text/plain": [
       "[<matplotlib.lines.Line2D at 0x7fd38bcb4160>]"
      ]
     },
     "execution_count": 743,
     "metadata": {},
     "output_type": "execute_result"
    },
    {
     "data": {
      "image/png": "[encoded data removed]",
      "text/plain": [
       "<Figure size 432x288 with 1 Axes>"
      ]
     },
     "metadata": {
      "needs_background": "light"
     },
     "output_type": "display_data"
    }
   ],
   "source": [
    "plt.plot(pBD1)"
   ]
  },
  {
   "cell_type": "code",
   "execution_count": 746,
   "metadata": {},
   "outputs": [
    {
     "data": {
      "text/plain": [
       "[<matplotlib.lines.Line2D at 0x7fd38bf072e0>]"
      ]
     },
     "execution_count": 746,
     "metadata": {},
     "output_type": "execute_result"
    },
    {
     "data": {
      "image/png": "[encoded data removed]",
      "text/plain": [
       "<Figure size 432x288 with 1 Axes>"
      ]
     },
     "metadata": {
      "needs_background": "light"
     },
     "output_type": "display_data"
    }
   ],
   "source": [
    "plt.plot(pBD2)"
   ]
  },
  {
   "cell_type": "code",
   "execution_count": 728,
   "metadata": {},
   "outputs": [
    {
     "data": {
      "text/plain": [
       "[<matplotlib.lines.Line2D at 0x7fd38b69a0a0>]"
      ]
     },
     "execution_count": 728,
     "metadata": {},
     "output_type": "execute_result"
    },
    {
     "data": {
      "image/png": "[encoded data removed]",
      "text/plain": [
       "<Figure size 432x288 with 1 Axes>"
      ]
     },
     "metadata": {
      "needs_background": "light"
     },
     "output_type": "display_data"
    }
   ],
   "source": [
    "plt.plot(pBC_over_time)"
   ]
  },
  {
   "cell_type": "code",
   "execution_count": 722,
   "metadata": {},
   "outputs": [
    {
     "name": "stderr",
     "output_type": "stream",
     "text": [
      "<ipython-input-722-6302fdfb0d00>:1: VisibleDeprecationWarning: Creating an ndarray from ragged nested sequences (which is a list-or-tuple of lists-or-tuples-or ndarrays with different lengths or shapes) is deprecated. If you meant to do this, you must specify 'dtype=object' when creating the ndarray.\n",
      "  plt.plot([x[0] for x in np.array(np.array(qp_over_time)[:,0])])\n"
     ]
    },
    {
     "data": {
      "text/plain": [
       "[<matplotlib.lines.Line2D at 0x7fd38aef9400>]"
      ]
     },
     "execution_count": 722,
     "metadata": {},
     "output_type": "execute_result"
    },
    {
     "data": {
      "image/png": "[encoded data removed]",
      "text/plain": [
       "<Figure size 432x288 with 1 Axes>"
      ]
     },
     "metadata": {
      "needs_background": "light"
     },
     "output_type": "display_data"
    }
   ],
   "source": [
    "plt.plot([x[0] for x in np.array(np.array(qp_over_time)[:,0])])"
   ]
  },
  {
   "cell_type": "code",
   "execution_count": 723,
   "metadata": {},
   "outputs": [
    {
     "data": {
      "text/plain": [
       "1.8"
      ]
     },
     "execution_count": 723,
     "metadata": {},
     "output_type": "execute_result"
    }
   ],
   "source": [
    "(1+0.8)"
   ]
  },
  {
   "cell_type": "code",
   "execution_count": 724,
   "metadata": {},
   "outputs": [
    {
     "name": "stderr",
     "output_type": "stream",
     "text": [
      "<ipython-input-724-93985c248eb2>:1: VisibleDeprecationWarning: Creating an ndarray from ragged nested sequences (which is a list-or-tuple of lists-or-tuples-or ndarrays with different lengths or shapes) is deprecated. If you meant to do this, you must specify 'dtype=object' when creating the ndarray.\n",
      "  plt.plot(-np.array(qp_over_time)[:,2])\n"
     ]
    },
    {
     "data": {
      "text/plain": [
       "[<matplotlib.lines.Line2D at 0x7fd38b0f90a0>]"
      ]
     },
     "execution_count": 724,
     "metadata": {},
     "output_type": "execute_result"
    },
    {
     "data": {
      "image/png": "[encoded data removed]",
      "text/plain": [
       "<Figure size 432x288 with 1 Axes>"
      ]
     },
     "metadata": {
      "needs_background": "light"
     },
     "output_type": "display_data"
    }
   ],
   "source": [
    "plt.plot(-np.array(qp_over_time)[:,2])"
   ]
  },
  {
   "cell_type": "code",
   "execution_count": 725,
   "metadata": {},
   "outputs": [
    {
     "name": "stderr",
     "output_type": "stream",
     "text": [
      "<ipython-input-725-24709c8fe238>:1: VisibleDeprecationWarning: Creating an ndarray from ragged nested sequences (which is a list-or-tuple of lists-or-tuples-or ndarrays with different lengths or shapes) is deprecated. If you meant to do this, you must specify 'dtype=object' when creating the ndarray.\n",
      "  plt.plot(-np.array(qp_over_time)[:,1])\n"
     ]
    },
    {
     "data": {
      "text/plain": [
       "[<matplotlib.lines.Line2D at 0x7fd38b27d9d0>]"
      ]
     },
     "execution_count": 725,
     "metadata": {},
     "output_type": "execute_result"
    },
    {
     "data": {
      "image/png": "[encoded data removed]",
      "text/plain": [
       "<Figure size 432x288 with 1 Axes>"
      ]
     },
     "metadata": {
      "needs_background": "light"
     },
     "output_type": "display_data"
    }
   ],
   "source": [
    "plt.plot(-np.array(qp_over_time)[:,1])"
   ]
  },
  {
   "cell_type": "code",
   "execution_count": 692,
   "metadata": {},
   "outputs": [
    {
     "name": "stderr",
     "output_type": "stream",
     "text": [
      "<ipython-input-692-4b2cdd3e2241>:1: VisibleDeprecationWarning: Creating an ndarray from ragged nested sequences (which is a list-or-tuple of lists-or-tuples-or ndarrays with different lengths or shapes) is deprecated. If you meant to do this, you must specify 'dtype=object' when creating the ndarray.\n",
      "  -np.array(qp_over_time)[:,2]\n"
     ]
    },
    {
     "data": {
      "text/plain": [
       "array([-0.7470425106965353, -0.7470425106965353, -1.07414741376076,\n",
       "       -1.3434994947315901, -1.541228805925912, -1.6843701740040178,\n",
       "       -1.7901358640098706, -0.7470425106965353, -1.7901358640098706,\n",
       "       -0.9276630907431656, -1.7901358640098706, -1.0957914176266228,\n",
       "       -1.7901358640098706, -1.2430632056394146, -1.7901358640098706,\n",
       "       -1.3683600413900825, -1.7901358640098706, -1.4738391616966822,\n",
       "       -1.7901358640098706, -1.5625931239283128, -1.7901358640098706,\n",
       "       -1.6376237308592372, -1.7901358640098706, -1.701502575595255,\n",
       "       -1.7901358640098706, -1.7563225188027665, -1.7563225188027665,\n",
       "       -1.7563225188027665, -1.7563225188027665, -1.7563225188027665,\n",
       "       -1.7563225188027665], dtype=object)"
      ]
     },
     "execution_count": 692,
     "metadata": {},
     "output_type": "execute_result"
    }
   ],
   "source": [
    "-np.array(qp_over_time)[:,2]"
   ]
  },
  {
   "cell_type": "code",
   "execution_count": 669,
   "metadata": {},
   "outputs": [
    {
     "data": {
      "text/plain": [
       "[array([[0. , 0. , 0. , 0. ],\n",
       "        [0. , 0. , 0. , 0. ],\n",
       "        [0.5, 0.5, 0.5, 0.5],\n",
       "        [0.5, 0.5, 0.5, 0.5]]),\n",
       " array([[0.        , 0.        , 0.        , 0.        ],\n",
       "        [0.        , 0.        , 0.        , 0.        ],\n",
       "        [0.5       , 0.5       , 0.5       , 0.35714286],\n",
       "        [0.5       , 0.5       , 0.5       , 0.64285714]]),\n",
       " array([[0.        , 0.        , 0.        , 0.        ],\n",
       "        [0.        , 0.        , 0.        , 0.        ],\n",
       "        [0.5       , 0.5       , 0.5       , 0.26119403],\n",
       "        [0.5       , 0.5       , 0.5       , 0.73880597]]),\n",
       " array([[0.        , 0.        , 0.        , 0.        ],\n",
       "        [0.        , 0.        , 0.        , 0.        ],\n",
       "        [0.5       , 0.5       , 0.5       , 0.19957447],\n",
       "        [0.5       , 0.5       , 0.5       , 0.80042553]]),\n",
       " array([[0.       , 0.       , 0.       , 0.       ],\n",
       "        [0.       , 0.       , 0.       , 0.       ],\n",
       "        [0.5      , 0.5      , 0.5      , 0.1589486],\n",
       "        [0.5      , 0.5      , 0.5      , 0.8410514]]),\n",
       " array([[0.        , 0.        , 0.        , 0.        ],\n",
       "        [0.        , 0.        , 0.        , 0.        ],\n",
       "        [0.5       , 0.5       , 0.5       , 0.13094106],\n",
       "        [0.5       , 0.5       , 0.5       , 0.86905894]]),\n",
       " array([[0.        , 0.        , 0.        , 0.        ],\n",
       "        [0.        , 0.        , 0.        , 0.        ],\n",
       "        [0.5       , 0.5       , 0.5       , 0.13094106],\n",
       "        [0.5       , 0.5       , 0.5       , 0.86905894]]),\n",
       " array([[0.        , 0.        , 0.        , 0.        ],\n",
       "        [0.        , 0.        , 0.        , 0.        ],\n",
       "        [0.41666667, 0.5       , 0.5       , 0.13094106],\n",
       "        [0.58333333, 0.5       , 0.5       , 0.86905894]]),\n",
       " array([[0.        , 0.        , 0.        , 0.        ],\n",
       "        [0.        , 0.        , 0.        , 0.        ],\n",
       "        [0.41666667, 0.5       , 0.5       , 0.13094106],\n",
       "        [0.58333333, 0.5       , 0.5       , 0.86905894]]),\n",
       " array([[0.        , 0.        , 0.        , 0.        ],\n",
       "        [0.        , 0.        , 0.        , 0.        ],\n",
       "        [0.34883721, 0.5       , 0.5       , 0.13094106],\n",
       "        [0.65116279, 0.5       , 0.5       , 0.86905894]]),\n",
       " array([[0.        , 0.        , 0.        , 0.        ],\n",
       "        [0.        , 0.        , 0.        , 0.        ],\n",
       "        [0.34883721, 0.5       , 0.5       , 0.13094106],\n",
       "        [0.65116279, 0.5       , 0.5       , 0.86905894]]),\n",
       " array([[0.        , 0.        , 0.        , 0.        ],\n",
       "        [0.        , 0.        , 0.        , 0.        ],\n",
       "        [0.29519451, 0.5       , 0.5       , 0.13094106],\n",
       "        [0.70480549, 0.5       , 0.5       , 0.86905894]]),\n",
       " array([[0.        , 0.        , 0.        , 0.        ],\n",
       "        [0.        , 0.        , 0.        , 0.        ],\n",
       "        [0.29519451, 0.5       , 0.5       , 0.13094106],\n",
       "        [0.70480549, 0.5       , 0.5       , 0.86905894]]),\n",
       " array([[0.        , 0.        , 0.        , 0.        ],\n",
       "        [0.        , 0.        , 0.        , 0.        ],\n",
       "        [0.25307221, 0.5       , 0.5       , 0.13094106],\n",
       "        [0.74692779, 0.5       , 0.5       , 0.86905894]]),\n",
       " array([[0.        , 0.        , 0.        , 0.        ],\n",
       "        [0.        , 0.        , 0.        , 0.        ],\n",
       "        [0.25307221, 0.5       , 0.5       , 0.13094106],\n",
       "        [0.74692779, 0.5       , 0.5       , 0.86905894]]),\n",
       " array([[0.        , 0.        , 0.        , 0.        ],\n",
       "        [0.        , 0.        , 0.        , 0.        ],\n",
       "        [0.21982933, 0.5       , 0.5       , 0.13094106],\n",
       "        [0.78017067, 0.5       , 0.5       , 0.86905894]]),\n",
       " array([[0.        , 0.        , 0.        , 0.        ],\n",
       "        [0.        , 0.        , 0.        , 0.        ],\n",
       "        [0.21982933, 0.5       , 0.5       , 0.13094106],\n",
       "        [0.78017067, 0.5       , 0.5       , 0.86905894]]),\n",
       " array([[0.        , 0.        , 0.        , 0.        ],\n",
       "        [0.        , 0.        , 0.        , 0.        ],\n",
       "        [0.19330694, 0.5       , 0.5       , 0.13094106],\n",
       "        [0.80669306, 0.5       , 0.5       , 0.86905894]]),\n",
       " array([[0.        , 0.        , 0.        , 0.        ],\n",
       "        [0.        , 0.        , 0.        , 0.        ],\n",
       "        [0.19330694, 0.5       , 0.5       , 0.13094106],\n",
       "        [0.80669306, 0.5       , 0.5       , 0.86905894]]),\n",
       " array([[0.        , 0.        , 0.        , 0.        ],\n",
       "        [0.        , 0.        , 0.        , 0.        ],\n",
       "        [0.17186635, 0.5       , 0.5       , 0.13094106],\n",
       "        [0.82813365, 0.5       , 0.5       , 0.86905894]]),\n",
       " array([[0.        , 0.        , 0.        , 0.        ],\n",
       "        [0.        , 0.        , 0.        , 0.        ],\n",
       "        [0.17186635, 0.5       , 0.5       , 0.13094106],\n",
       "        [0.82813365, 0.5       , 0.5       , 0.86905894]]),\n",
       " array([[0.        , 0.        , 0.        , 0.        ],\n",
       "        [0.        , 0.        , 0.        , 0.        ],\n",
       "        [0.15429762, 0.5       , 0.5       , 0.13094106],\n",
       "        [0.84570238, 0.5       , 0.5       , 0.86905894]]),\n",
       " array([[0.        , 0.        , 0.        , 0.        ],\n",
       "        [0.        , 0.        , 0.        , 0.        ],\n",
       "        [0.15429762, 0.5       , 0.5       , 0.13094106],\n",
       "        [0.84570238, 0.5       , 0.5       , 0.86905894]]),\n",
       " array([[0.        , 0.        , 0.        , 0.        ],\n",
       "        [0.        , 0.        , 0.        , 0.        ],\n",
       "        [0.13971274, 0.5       , 0.5       , 0.13094106],\n",
       "        [0.86028726, 0.5       , 0.5       , 0.86905894]]),\n",
       " array([[0.        , 0.        , 0.        , 0.        ],\n",
       "        [0.        , 0.        , 0.        , 0.        ],\n",
       "        [0.13971274, 0.5       , 0.5       , 0.13094106],\n",
       "        [0.86028726, 0.5       , 0.5       , 0.86905894]]),\n",
       " array([[0.        , 0.        , 0.        , 0.        ],\n",
       "        [0.        , 0.        , 0.        , 0.        ],\n",
       "        [0.13971274, 0.5       , 0.5       , 0.13094106],\n",
       "        [0.86028726, 0.5       , 0.5       , 0.86905894]]),\n",
       " array([[0.        , 0.        , 0.        , 0.        ],\n",
       "        [0.        , 0.        , 0.        , 0.        ],\n",
       "        [0.13971274, 0.5       , 0.5       , 0.13094106],\n",
       "        [0.86028726, 0.5       , 0.5       , 0.86905894]]),\n",
       " array([[0.        , 0.        , 0.        , 0.        ],\n",
       "        [0.        , 0.        , 0.        , 0.        ],\n",
       "        [0.13971274, 0.5       , 0.5       , 0.13094106],\n",
       "        [0.86028726, 0.5       , 0.5       , 0.86905894]]),\n",
       " array([[0.        , 0.        , 0.        , 0.        ],\n",
       "        [0.        , 0.        , 0.        , 0.        ],\n",
       "        [0.13971274, 0.5       , 0.5       , 0.13094106],\n",
       "        [0.86028726, 0.5       , 0.5       , 0.86905894]]),\n",
       " array([[0.        , 0.        , 0.        , 0.        ],\n",
       "        [0.        , 0.        , 0.        , 0.        ],\n",
       "        [0.13971274, 0.5       , 0.5       , 0.13094106],\n",
       "        [0.86028726, 0.5       , 0.5       , 0.86905894]]),\n",
       " array([[0.        , 0.        , 0.        , 0.        ],\n",
       "        [0.        , 0.        , 0.        , 0.        ],\n",
       "        [0.13971274, 0.5       , 0.5       , 0.13094106],\n",
       "        [0.86028726, 0.5       , 0.5       , 0.86905894]])]"
      ]
     },
     "execution_count": 669,
     "metadata": {},
     "output_type": "execute_result"
    }
   ],
   "source": [
    "BD_over_time"
   ]
  },
  {
   "cell_type": "code",
   "execution_count": 670,
   "metadata": {},
   "outputs": [
    {
     "data": {
      "text/plain": [
       "[array([[0.5, 0.5, 0.5, 0.5],\n",
       "        [0.5, 0.5, 0.5, 0.5],\n",
       "        [0. , 0. , 0. , 0. ],\n",
       "        [0. , 0. , 0. , 0. ]]),\n",
       " array([[0.5, 0.5, 0.5, 0.5],\n",
       "        [0.5, 0.5, 0.5, 0.5],\n",
       "        [0. , 0. , 0. , 0. ],\n",
       "        [0. , 0. , 0. , 0. ]]),\n",
       " array([[0.5, 0.5, 0.5, 0.5],\n",
       "        [0.5, 0.5, 0.5, 0.5],\n",
       "        [0. , 0. , 0. , 0. ],\n",
       "        [0. , 0. , 0. , 0. ]]),\n",
       " array([[0.5, 0.5, 0.5, 0.5],\n",
       "        [0.5, 0.5, 0.5, 0.5],\n",
       "        [0. , 0. , 0. , 0. ],\n",
       "        [0. , 0. , 0. , 0. ]]),\n",
       " array([[0.5, 0.5, 0.5, 0.5],\n",
       "        [0.5, 0.5, 0.5, 0.5],\n",
       "        [0. , 0. , 0. , 0. ],\n",
       "        [0. , 0. , 0. , 0. ]]),\n",
       " array([[0.5, 0.5, 0.5, 0.5],\n",
       "        [0.5, 0.5, 0.5, 0.5],\n",
       "        [0. , 0. , 0. , 0. ],\n",
       "        [0. , 0. , 0. , 0. ]]),\n",
       " array([[0.5, 0.5, 0.5, 0.5],\n",
       "        [0.5, 0.5, 0.5, 0.5],\n",
       "        [0. , 0. , 0. , 0. ],\n",
       "        [0. , 0. , 0. , 0. ]]),\n",
       " array([[0.5, 0.5, 0.5, 0.5],\n",
       "        [0.5, 0.5, 0.5, 0.5],\n",
       "        [0. , 0. , 0. , 0. ],\n",
       "        [0. , 0. , 0. , 0. ]]),\n",
       " array([[0.5       , 0.5       , 0.5       , 0.58333333],\n",
       "        [0.5       , 0.5       , 0.5       , 0.41666667],\n",
       "        [0.        , 0.        , 0.        , 0.        ],\n",
       "        [0.        , 0.        , 0.        , 0.        ]]),\n",
       " array([[0.5       , 0.5       , 0.5       , 0.58333333],\n",
       "        [0.5       , 0.5       , 0.5       , 0.41666667],\n",
       "        [0.        , 0.        , 0.        , 0.        ],\n",
       "        [0.        , 0.        , 0.        , 0.        ]]),\n",
       " array([[0.5       , 0.5       , 0.5       , 0.66216216],\n",
       "        [0.5       , 0.5       , 0.5       , 0.33783784],\n",
       "        [0.        , 0.        , 0.        , 0.        ],\n",
       "        [0.        , 0.        , 0.        , 0.        ]]),\n",
       " array([[0.5       , 0.5       , 0.5       , 0.66216216],\n",
       "        [0.5       , 0.5       , 0.5       , 0.33783784],\n",
       "        [0.        , 0.        , 0.        , 0.        ],\n",
       "        [0.        , 0.        , 0.        , 0.        ]]),\n",
       " array([[0.5       , 0.5       , 0.5       , 0.73290598],\n",
       "        [0.5       , 0.5       , 0.5       , 0.26709402],\n",
       "        [0.        , 0.        , 0.        , 0.        ],\n",
       "        [0.        , 0.        , 0.        , 0.        ]]),\n",
       " array([[0.5       , 0.5       , 0.5       , 0.73290598],\n",
       "        [0.5       , 0.5       , 0.5       , 0.26709402],\n",
       "        [0.        , 0.        , 0.        , 0.        ],\n",
       "        [0.        , 0.        , 0.        , 0.        ]]),\n",
       " array([[0.5       , 0.5       , 0.5       , 0.79345671],\n",
       "        [0.5       , 0.5       , 0.5       , 0.20654329],\n",
       "        [0.        , 0.        , 0.        , 0.        ],\n",
       "        [0.        , 0.        , 0.        , 0.        ]]),\n",
       " array([[0.5       , 0.5       , 0.5       , 0.79345671],\n",
       "        [0.5       , 0.5       , 0.5       , 0.20654329],\n",
       "        [0.        , 0.        , 0.        , 0.        ],\n",
       "        [0.        , 0.        , 0.        , 0.        ]]),\n",
       " array([[0.5       , 0.5       , 0.5       , 0.84321694],\n",
       "        [0.5       , 0.5       , 0.5       , 0.15678306],\n",
       "        [0.        , 0.        , 0.        , 0.        ],\n",
       "        [0.        , 0.        , 0.        , 0.        ]]),\n",
       " array([[0.5       , 0.5       , 0.5       , 0.84321694],\n",
       "        [0.5       , 0.5       , 0.5       , 0.15678306],\n",
       "        [0.        , 0.        , 0.        , 0.        ],\n",
       "        [0.        , 0.        , 0.        , 0.        ]]),\n",
       " array([[0.5       , 0.5       , 0.5       , 0.88276033],\n",
       "        [0.5       , 0.5       , 0.5       , 0.11723967],\n",
       "        [0.        , 0.        , 0.        , 0.        ],\n",
       "        [0.        , 0.        , 0.        , 0.        ]]),\n",
       " array([[0.5       , 0.5       , 0.5       , 0.88276033],\n",
       "        [0.5       , 0.5       , 0.5       , 0.11723967],\n",
       "        [0.        , 0.        , 0.        , 0.        ],\n",
       "        [0.        , 0.        , 0.        , 0.        ]]),\n",
       " array([[0.5       , 0.5       , 0.5       , 0.91335503],\n",
       "        [0.5       , 0.5       , 0.5       , 0.08664497],\n",
       "        [0.        , 0.        , 0.        , 0.        ],\n",
       "        [0.        , 0.        , 0.        , 0.        ]]),\n",
       " array([[0.5       , 0.5       , 0.5       , 0.91335503],\n",
       "        [0.5       , 0.5       , 0.5       , 0.08664497],\n",
       "        [0.        , 0.        , 0.        , 0.        ],\n",
       "        [0.        , 0.        , 0.        , 0.        ]]),\n",
       " array([[0.5       , 0.5       , 0.5       , 0.93653973],\n",
       "        [0.5       , 0.5       , 0.5       , 0.06346027],\n",
       "        [0.        , 0.        , 0.        , 0.        ],\n",
       "        [0.        , 0.        , 0.        , 0.        ]]),\n",
       " array([[0.5       , 0.5       , 0.5       , 0.93653973],\n",
       "        [0.5       , 0.5       , 0.5       , 0.06346027],\n",
       "        [0.        , 0.        , 0.        , 0.        ],\n",
       "        [0.        , 0.        , 0.        , 0.        ]]),\n",
       " array([[0.5       , 0.5       , 0.5       , 0.95383418],\n",
       "        [0.5       , 0.5       , 0.5       , 0.04616582],\n",
       "        [0.        , 0.        , 0.        , 0.        ],\n",
       "        [0.        , 0.        , 0.        , 0.        ]]),\n",
       " array([[0.58333333, 0.5       , 0.5       , 0.95383418],\n",
       "        [0.41666667, 0.5       , 0.5       , 0.04616582],\n",
       "        [0.        , 0.        , 0.        , 0.        ],\n",
       "        [0.        , 0.        , 0.        , 0.        ]]),\n",
       " array([[0.71590909, 0.5       , 0.5       , 0.95383418],\n",
       "        [0.28409091, 0.5       , 0.5       , 0.04616582],\n",
       "        [0.        , 0.        , 0.        , 0.        ],\n",
       "        [0.        , 0.        , 0.        , 0.        ]]),\n",
       " array([[0.81936416, 0.5       , 0.5       , 0.95383418],\n",
       "        [0.18063584, 0.5       , 0.5       , 0.04616582],\n",
       "        [0.        , 0.        , 0.        , 0.        ],\n",
       "        [0.        , 0.        , 0.        , 0.        ]]),\n",
       " array([[0.89088687, 0.5       , 0.5       , 0.95383418],\n",
       "        [0.10911313, 0.5       , 0.5       , 0.04616582],\n",
       "        [0.        , 0.        , 0.        , 0.        ],\n",
       "        [0.        , 0.        , 0.        , 0.        ]]),\n",
       " array([[0.9362921 , 0.5       , 0.5       , 0.95383418],\n",
       "        [0.0637079 , 0.5       , 0.5       , 0.04616582],\n",
       "        [0.        , 0.        , 0.        , 0.        ],\n",
       "        [0.        , 0.        , 0.        , 0.        ]]),\n",
       " array([[0.96357537, 0.5       , 0.5       , 0.95383418],\n",
       "        [0.03642463, 0.5       , 0.5       , 0.04616582],\n",
       "        [0.        , 0.        , 0.        , 0.        ],\n",
       "        [0.        , 0.        , 0.        , 0.        ]])]"
      ]
     },
     "execution_count": 670,
     "metadata": {},
     "output_type": "execute_result"
    }
   ],
   "source": [
    "BC_over_time"
   ]
  },
  {
   "cell_type": "code",
   "execution_count": 664,
   "metadata": {},
   "outputs": [
    {
     "data": {
      "text/plain": [
       "[0.5,\n",
       " 0.9,\n",
       " 1.4142857142857144,\n",
       " 2.0053304904051172,\n",
       " 2.645670915937032,\n",
       " 3.318512032923089,\n",
       " 3.318512032923089,\n",
       " 3.318512032923089,\n",
       " 3.318512032923089,\n",
       " 3.318512032923089,\n",
       " 3.318512032923089,\n",
       " 3.318512032923089,\n",
       " 3.318512032923089,\n",
       " 3.318512032923089,\n",
       " 3.318512032923089,\n",
       " 3.318512032923089,\n",
       " 3.318512032923089,\n",
       " 3.318512032923089,\n",
       " 3.318512032923089,\n",
       " 3.318512032923089,\n",
       " 3.318512032923089,\n",
       " 3.318512032923089,\n",
       " 3.318512032923089,\n",
       " 3.318512032923089,\n",
       " 3.318512032923089,\n",
       " 3.318512032923089,\n",
       " 3.318512032923089,\n",
       " 3.318512032923089,\n",
       " 3.318512032923089,\n",
       " 3.318512032923089,\n",
       " 3.318512032923089]"
      ]
     },
     "execution_count": 664,
     "metadata": {},
     "output_type": "execute_result"
    }
   ],
   "source": [
    "pBD_over_time"
   ]
  },
  {
   "cell_type": "code",
   "execution_count": 659,
   "metadata": {},
   "outputs": [
    {
     "data": {
      "text/plain": [
       "[<matplotlib.lines.Line2D at 0x7fd38a198c40>]"
      ]
     },
     "execution_count": 659,
     "metadata": {},
     "output_type": "execute_result"
    },
    {
     "data": {
      "image/png": "[encoded data removed]",
      "text/plain": [
       "<Figure size 432x288 with 1 Axes>"
      ]
     },
     "metadata": {
      "needs_background": "light"
     },
     "output_type": "display_data"
    }
   ],
   "source": [
    "plt.plot(pBC_over_time)"
   ]
  },
  {
   "cell_type": "code",
   "execution_count": 624,
   "metadata": {},
   "outputs": [
    {
     "data": {
      "text/plain": [
       "0.6153846153846154"
      ]
     },
     "execution_count": 624,
     "metadata": {},
     "output_type": "execute_result"
    }
   ],
   "source": [
    "0.5*1.6 / (0.5*1.6+0.5)"
   ]
  },
  {
   "cell_type": "code",
   "execution_count": null,
   "metadata": {},
   "outputs": [],
   "source": []
  },
  {
   "cell_type": "code",
   "execution_count": 634,
   "metadata": {},
   "outputs": [
    {
     "data": {
      "text/plain": [
       "1.8953846153846157"
      ]
     },
     "execution_count": 634,
     "metadata": {},
     "output_type": "execute_result"
    }
   ],
   "source": [
    "0.5*1.6**2 + (0.5*1.6/ (0.5*1.6+0.5))"
   ]
  },
  {
   "cell_type": "code",
   "execution_count": 626,
   "metadata": {},
   "outputs": [
    {
     "data": {
      "text/plain": [
       "0.55"
      ]
     },
     "execution_count": 626,
     "metadata": {},
     "output_type": "execute_result"
    }
   ],
   "source": [
    "1.1*0.5"
   ]
  },
  {
   "cell_type": "code",
   "execution_count": 625,
   "metadata": {},
   "outputs": [
    {
     "data": {
      "text/plain": [
       "1.2800000000000002"
      ]
     },
     "execution_count": 625,
     "metadata": {},
     "output_type": "execute_result"
    }
   ],
   "source": [
    "0.5*1.6**2"
   ]
  },
  {
   "cell_type": "code",
   "execution_count": 613,
   "metadata": {},
   "outputs": [
    {
     "data": {
      "text/plain": [
       "array([1. , 1. , 1. , 1.3])"
      ]
     },
     "execution_count": 613,
     "metadata": {},
     "output_type": "execute_result"
    }
   ],
   "source": [
    "pBD.sum(axis=0)"
   ]
  },
  {
   "cell_type": "code",
   "execution_count": 561,
   "metadata": {},
   "outputs": [
    {
     "data": {
      "text/plain": [
       "array([[0.5, 0.5, 0.5, 0.5],\n",
       "       [0.5, 0.5, 0.5, 0.5]])"
      ]
     },
     "execution_count": 561,
     "metadata": {},
     "output_type": "execute_result"
    }
   ],
   "source": [
    "pBD[-2:,:]"
   ]
  },
  {
   "cell_type": "code",
   "execution_count": 467,
   "metadata": {},
   "outputs": [
    {
     "name": "stdout",
     "output_type": "stream",
     "text": [
      "[[0.  0.  0.  0. ]\n",
      " [0.  0.  0.  0. ]\n",
      " [0.5 0.5 0.5 0.5]\n",
      " [0.5 0.5 0.5 0.5]]\n"
     ]
    }
   ],
   "source": [
    "print(p_prior)"
   ]
  },
  {
   "cell_type": "code",
   "execution_count": 468,
   "metadata": {},
   "outputs": [
    {
     "data": {
      "text/plain": [
       "array([[0, 0, 0, 0],\n",
       "       [0, 0, 0, 0],\n",
       "       [0, 0, 0, 0],\n",
       "       [0, 0, 0, 1]])"
      ]
     },
     "execution_count": 468,
     "metadata": {},
     "output_type": "execute_result"
    }
   ],
   "source": [
    "np.outer(s,s)"
   ]
  },
  {
   "cell_type": "code",
   "execution_count": 469,
   "metadata": {},
   "outputs": [
    {
     "data": {
      "text/plain": [
       "array([[0. , 0. , 0. , 0. ],\n",
       "       [0. , 0. , 0. , 0. ],\n",
       "       [0.5, 0.5, 0.5, 0.5],\n",
       "       [0.5, 0.5, 0.5, 0.8]])"
      ]
     },
     "execution_count": 469,
     "metadata": {},
     "output_type": "execute_result"
    }
   ],
   "source": [
    "np.multiply(p_prior, 1 + lr*np.outer(s,s))"
   ]
  },
  {
   "cell_type": "code",
   "execution_count": 473,
   "metadata": {},
   "outputs": [
    {
     "data": {
      "text/plain": [
       "array([[0.  , 0.  , 0.  , 0.  ],\n",
       "       [0.  , 0.  , 0.  , 0.  ],\n",
       "       [0.5 , 0.5 , 0.5 , 0.5 ],\n",
       "       [0.5 , 0.5 , 0.5 , 1.28]])"
      ]
     },
     "execution_count": 473,
     "metadata": {},
     "output_type": "execute_result"
    }
   ],
   "source": [
    "np.multiply(p_prior, 1 + lr*np.outer(s,s))"
   ]
  },
  {
   "cell_type": "code",
   "execution_count": 470,
   "metadata": {},
   "outputs": [],
   "source": [
    "qBD = p_prior + lr * np.multiply(np.outer(s, s),p_prior)\n"
   ]
  },
  {
   "cell_type": "code",
   "execution_count": 571,
   "metadata": {},
   "outputs": [
    {
     "data": {
      "text/plain": [
       "array([0, 0, 0, 1])"
      ]
     },
     "execution_count": 571,
     "metadata": {},
     "output_type": "execute_result"
    }
   ],
   "source": [
    "np.outer(s,s)[3]"
   ]
  },
  {
   "cell_type": "code",
   "execution_count": 563,
   "metadata": {},
   "outputs": [],
   "source": [
    "q4 = pBD[3]"
   ]
  },
  {
   "cell_type": "code",
   "execution_count": 573,
   "metadata": {},
   "outputs": [
    {
     "data": {
      "text/plain": [
       "array([0.5, 0.5, 0.5, 0.5])"
      ]
     },
     "execution_count": 573,
     "metadata": {},
     "output_type": "execute_result"
    }
   ],
   "source": [
    "q4"
   ]
  },
  {
   "cell_type": "code",
   "execution_count": 589,
   "metadata": {},
   "outputs": [
    {
     "data": {
      "text/plain": [
       "0.8"
      ]
     },
     "execution_count": 589,
     "metadata": {},
     "output_type": "execute_result"
    }
   ],
   "source": [
    "1.6*0.5"
   ]
  },
  {
   "cell_type": "code",
   "execution_count": 592,
   "metadata": {},
   "outputs": [
    {
     "data": {
      "text/plain": [
       "1.2800000000000002"
      ]
     },
     "execution_count": 592,
     "metadata": {},
     "output_type": "execute_result"
    }
   ],
   "source": []
  },
  {
   "cell_type": "code",
   "execution_count": 590,
   "metadata": {},
   "outputs": [
    {
     "data": {
      "text/plain": [
       "1.2800000000000002"
      ]
     },
     "execution_count": 590,
     "metadata": {},
     "output_type": "execute_result"
    }
   ],
   "source": [
    "1.6*0.8"
   ]
  },
  {
   "cell_type": "code",
   "execution_count": 580,
   "metadata": {},
   "outputs": [
    {
     "data": {
      "text/plain": [
       "0.10094825899732769"
      ]
     },
     "execution_count": 580,
     "metadata": {},
     "output_type": "execute_result"
    }
   ],
   "source": [
    "0.5*np.exp((1+lr))"
   ]
  },
  {
   "cell_type": "code",
   "execution_count": 572,
   "metadata": {},
   "outputs": [
    {
     "data": {
      "text/plain": [
       "array([0. , 0. , 0. , 0.5])"
      ]
     },
     "execution_count": 572,
     "metadata": {},
     "output_type": "execute_result"
    }
   ],
   "source": [
    "np.multiply(np.outer(s, s)[3],q4)"
   ]
  },
  {
   "cell_type": "code",
   "execution_count": 568,
   "metadata": {},
   "outputs": [
    {
     "name": "stdout",
     "output_type": "stream",
     "text": [
      "[0.8 0.8 0.8 0.8]\n"
     ]
    }
   ],
   "source": [
    "q42 = q4 + lr * np.multiply(np.outer(s, s)[3],q4)\n",
    "print(q42)"
   ]
  },
  {
   "cell_type": "code",
   "execution_count": 569,
   "metadata": {},
   "outputs": [],
   "source": [
    "R = np.multiply(p_prior, 1 + lr*np.outer(s,s))\n"
   ]
  },
  {
   "cell_type": "code",
   "execution_count": 479,
   "metadata": {},
   "outputs": [
    {
     "data": {
      "text/plain": [
       "array([[0. , 0. , 0. , 0. ],\n",
       "       [0. , 0. , 0. , 0. ],\n",
       "       [0.5, 0.5, 0.5, 0.5],\n",
       "       [0.5, 0.5, 0.5, 0.8]])"
      ]
     },
     "execution_count": 479,
     "metadata": {},
     "output_type": "execute_result"
    }
   ],
   "source": [
    "p_prior"
   ]
  },
  {
   "cell_type": "code",
   "execution_count": 546,
   "metadata": {},
   "outputs": [
    {
     "data": {
      "text/plain": [
       "array([64.59610851,  1.54009766,  1.        ,  1.        ])"
      ]
     },
     "execution_count": 546,
     "metadata": {},
     "output_type": "execute_result"
    }
   ],
   "source": [
    "np.exp(eig)"
   ]
  },
  {
   "cell_type": "code",
   "execution_count": 551,
   "metadata": {},
   "outputs": [
    {
     "data": {
      "text/plain": [
       "array([[ -0.        ,   0.        ,   0.        ,   0.        ],\n",
       "       [ -0.        ,   0.        ,   0.        ,   0.        ],\n",
       "       [-15.45983746,  10.42664193,  24.75224217,   2.39038417],\n",
       "       [-15.45983746,  10.42664193,  24.75224217,   2.39038417]])"
      ]
     },
     "execution_count": 551,
     "metadata": {},
     "output_type": "execute_result"
    }
   ],
   "source": [
    "np.multiply(pBD, eigv[0] * np.exp(eig[0]))"
   ]
  },
  {
   "cell_type": "code",
   "execution_count": 558,
   "metadata": {},
   "outputs": [
    {
     "data": {
      "text/plain": [
       "array([[-30.92,   0.5 ,   0.77,   0.07],\n",
       "       [-30.92,   0.5 ,  -0.63,  -0.74],\n",
       "       [-30.92,   0.5 ,  -0.14,   0.67],\n",
       "       [-36.12,  -1.28,  -0.  ,  -0.  ]])"
      ]
     },
     "execution_count": 558,
     "metadata": {},
     "output_type": "execute_result"
    }
   ],
   "source": [
    "np.multiply(eigv, np.exp(eig)).round(2)"
   ]
  },
  {
   "cell_type": "code",
   "execution_count": 493,
   "metadata": {},
   "outputs": [
    {
     "data": {
      "text/plain": [
       "array([[0.  , 0.  , 0.  , 0.  ],\n",
       "       [0.  , 0.  , 0.  , 0.  ],\n",
       "       [0.5 , 0.5 , 0.5 , 0.5 ],\n",
       "       [0.5 , 0.5 , 0.5 , 1.28]])"
      ]
     },
     "execution_count": 493,
     "metadata": {},
     "output_type": "execute_result"
    }
   ],
   "source": [
    "A.dot(p_prior)"
   ]
  },
  {
   "cell_type": "code",
   "execution_count": 482,
   "metadata": {},
   "outputs": [],
   "source": [
    "A = np.matmul(R,np.linalg.pinv(p_prior))"
   ]
  },
  {
   "cell_type": "code",
   "execution_count": 485,
   "metadata": {},
   "outputs": [
    {
     "data": {
      "text/plain": [
       "array([[0. , 0. , 0. , 0. ],\n",
       "       [0. , 0. , 0. , 0. ],\n",
       "       [0.5, 0.5, 0.5, 0.5],\n",
       "       [0.5, 0.5, 0.5, 0.5]])"
      ]
     },
     "execution_count": 485,
     "metadata": {},
     "output_type": "execute_result"
    }
   ],
   "source": [
    "pBD"
   ]
  },
  {
   "cell_type": "code",
   "execution_count": 487,
   "metadata": {},
   "outputs": [
    {
     "data": {
      "text/plain": [
       "array([[ 0. ,  0. ,  0. ,  0. ],\n",
       "       [ 0. ,  0. ,  0. ,  0. ],\n",
       "       [ 0. ,  0. ,  1. ,  0. ],\n",
       "       [-0. ,  0. , -1.6,  2.6]])"
      ]
     },
     "execution_count": 487,
     "metadata": {},
     "output_type": "execute_result"
    }
   ],
   "source": [
    "A.round(2)"
   ]
  },
  {
   "cell_type": "code",
   "execution_count": 489,
   "metadata": {},
   "outputs": [],
   "source": [
    "eig, eigv = np.linalg.eig(A)"
   ]
  },
  {
   "cell_type": "code",
   "execution_count": 588,
   "metadata": {},
   "outputs": [
    {
     "data": {
      "text/plain": [
       "1.6"
      ]
     },
     "execution_count": 588,
     "metadata": {},
     "output_type": "execute_result"
    }
   ],
   "source": [
    "1.6*0.5*2"
   ]
  },
  {
   "cell_type": "code",
   "execution_count": 491,
   "metadata": {},
   "outputs": [],
   "source": [
    "v1, v2, v3, v4 = eigv"
   ]
  },
  {
   "cell_type": "code",
   "execution_count": 586,
   "metadata": {},
   "outputs": [
    {
     "data": {
      "text/plain": [
       "0.9110594001952544"
      ]
     },
     "execution_count": 586,
     "metadata": {},
     "output_type": "execute_result"
    }
   ],
   "source": [
    "0.5*np.exp(0.6)"
   ]
  },
  {
   "cell_type": "code",
   "execution_count": 495,
   "metadata": {},
   "outputs": [
    {
     "data": {
      "text/plain": [
       "array([ 0.        ,  0.        , 13.46373804,  0.        ])"
      ]
     },
     "execution_count": 495,
     "metadata": {},
     "output_type": "execute_result"
    }
   ],
   "source": [
    "v1.dot(np.exp(eig[0]))"
   ]
  },
  {
   "cell_type": "code",
   "execution_count": 496,
   "metadata": {},
   "outputs": [
    {
     "data": {
      "text/plain": [
       "array([[1. , 1. , 1. , 1. ],\n",
       "       [1. , 1. , 1. , 1. ],\n",
       "       [1. , 1. , 1. , 1. ],\n",
       "       [1. , 1. , 1. , 1.6]])"
      ]
     },
     "execution_count": 496,
     "metadata": {},
     "output_type": "execute_result"
    }
   ],
   "source": [
    "1 + lr*np.outer(s,s)"
   ]
  },
  {
   "cell_type": "code",
   "execution_count": 497,
   "metadata": {},
   "outputs": [],
   "source": [
    "p_prior = qBD"
   ]
  },
  {
   "cell_type": "code",
   "execution_count": 498,
   "metadata": {},
   "outputs": [
    {
     "name": "stdout",
     "output_type": "stream",
     "text": [
      "[[0.    0.    0.    0.   ]\n",
      " [0.    0.    0.    0.   ]\n",
      " [0.5   0.5   0.5   0.5  ]\n",
      " [0.5   0.5   0.5   2.048]]\n",
      "[[0.   0.   0.   0.  ]\n",
      " [0.   0.   0.   0.  ]\n",
      " [0.5  0.5  0.5  0.5 ]\n",
      " [0.5  0.5  0.5  1.28]]\n",
      "[[0.     0.     0.     0.    ]\n",
      " [0.     0.     0.     0.    ]\n",
      " [0.5    0.5    0.5    0.5   ]\n",
      " [0.5    0.5    0.5    3.2768]]\n",
      "[[0.    0.    0.    0.   ]\n",
      " [0.    0.    0.    0.   ]\n",
      " [0.5   0.5   0.5   0.5  ]\n",
      " [0.5   0.5   0.5   2.048]]\n",
      "[[0.      0.      0.      0.     ]\n",
      " [0.      0.      0.      0.     ]\n",
      " [0.5     0.5     0.5     0.5    ]\n",
      " [0.5     0.5     0.5     5.24288]]\n",
      "[[0.     0.     0.     0.    ]\n",
      " [0.     0.     0.     0.    ]\n",
      " [0.5    0.5    0.5    0.5   ]\n",
      " [0.5    0.5    0.5    3.2768]]\n"
     ]
    }
   ],
   "source": [
    "t = 0\n",
    "s = next_state(BC, BD,a,s_prior)\n",
    "a = next_action(BC, BD, s)\n",
    "print(np.multiply(p_prior, 1 + lr*np.outer(s,s)))\n",
    "print(p_prior)\n",
    "#pBC, pBD = update_B(pBC, pBD,pBC, pBD, a, s, s_prior, lr)\n",
    "qBD = p_prior + lr * np.multiply(np.outer(s, s),p_prior)\n",
    "p_prior = qBD\n",
    "print(np.multiply(p_prior, 1 + lr*np.outer(s,s)))\n",
    "print(qBD)\n",
    "qBD = p_prior + lr * np.multiply(np.outer(s, s),p_prior)\n",
    "p_prior = qBD\n",
    "print(np.multiply(p_prior, 1 + lr*np.outer(s,s)))\n",
    "print(qBD)\n",
    "BC = pBC/ pBC.sum(axis=0)\n",
    "BD = pBD/ pBD.sum(axis=0)\n",
    "\n",
    "o = a\n",
    "s_prior = prior(s,o)\n",
    "actions_over_time.append(a)"
   ]
  },
  {
   "cell_type": "code",
   "execution_count": 499,
   "metadata": {},
   "outputs": [],
   "source": [
    "eig, eigv = np.linalg.eig(1 + lr*np.outer(s,s))"
   ]
  },
  {
   "cell_type": "code",
   "execution_count": 500,
   "metadata": {},
   "outputs": [],
   "source": [
    "A = 1 + lr*np.outer(s,s)"
   ]
  },
  {
   "cell_type": "code",
   "execution_count": 501,
   "metadata": {},
   "outputs": [
    {
     "data": {
      "text/plain": [
       "array([[1. , 1. , 1. , 1. ],\n",
       "       [1. , 1. , 1. , 1. ],\n",
       "       [1. , 1. , 1. , 1. ],\n",
       "       [1. , 1. , 1. , 1.6]])"
      ]
     },
     "execution_count": 501,
     "metadata": {},
     "output_type": "execute_result"
    }
   ],
   "source": [
    "A"
   ]
  },
  {
   "cell_type": "code",
   "execution_count": 502,
   "metadata": {},
   "outputs": [],
   "source": [
    "p_new = p_prior * A "
   ]
  },
  {
   "cell_type": "code",
   "execution_count": 503,
   "metadata": {},
   "outputs": [
    {
     "data": {
      "text/plain": [
       "array([[0.      , 0.      , 0.      , 0.      ],\n",
       "       [0.      , 0.      , 0.      , 0.      ],\n",
       "       [0.5     , 0.5     , 0.5     , 0.5     ],\n",
       "       [0.5     , 0.5     , 0.5     , 8.388608]])"
      ]
     },
     "execution_count": 503,
     "metadata": {},
     "output_type": "execute_result"
    }
   ],
   "source": [
    "p_new * A"
   ]
  },
  {
   "cell_type": "code",
   "execution_count": 504,
   "metadata": {},
   "outputs": [
    {
     "data": {
      "text/plain": [
       "array([[2.71828183, 2.71828183, 2.71828183, 2.71828183],\n",
       "       [2.71828183, 2.71828183, 2.71828183, 2.71828183],\n",
       "       [2.71828183, 2.71828183, 2.71828183, 2.71828183],\n",
       "       [2.71828183, 2.71828183, 2.71828183, 4.95303242]])"
      ]
     },
     "execution_count": 504,
     "metadata": {},
     "output_type": "execute_result"
    }
   ],
   "source": [
    "np.exp(A)"
   ]
  },
  {
   "cell_type": "code",
   "execution_count": 505,
   "metadata": {},
   "outputs": [
    {
     "data": {
      "text/plain": [
       "array([[ 0.        ,  0.        ,  0.        ,  0.        ],\n",
       "       [ 0.        ,  0.        ,  0.        ,  0.        ],\n",
       "       [ 1.35914091,  1.35914091,  1.35914091,  1.35914091],\n",
       "       [ 1.35914091,  1.35914091,  1.35914091, 16.23009665]])"
      ]
     },
     "execution_count": 505,
     "metadata": {},
     "output_type": "execute_result"
    }
   ],
   "source": [
    "p_prior * np.exp(A)"
   ]
  },
  {
   "cell_type": "code",
   "execution_count": 506,
   "metadata": {},
   "outputs": [
    {
     "data": {
      "text/plain": [
       "array([[0.    , 0.    , 0.    , 0.    ],\n",
       "       [0.    , 0.    , 0.    , 0.    ],\n",
       "       [0.5   , 0.5   , 0.5   , 0.5   ],\n",
       "       [0.5   , 0.5   , 0.5   , 3.2768]])"
      ]
     },
     "execution_count": 506,
     "metadata": {},
     "output_type": "execute_result"
    }
   ],
   "source": [
    "p_prior"
   ]
  },
  {
   "cell_type": "code",
   "execution_count": 507,
   "metadata": {},
   "outputs": [
    {
     "data": {
      "text/plain": [
       "array([[2.71828183, 1.        , 1.        , 1.        ],\n",
       "       [1.        , 2.71828183, 1.        , 1.        ],\n",
       "       [1.        , 1.        , 2.71828183, 1.        ],\n",
       "       [1.        , 1.        , 1.        , 4.95303242]])"
      ]
     },
     "execution_count": 507,
     "metadata": {},
     "output_type": "execute_result"
    }
   ],
   "source": [
    "np.exp(const)"
   ]
  },
  {
   "cell_type": "code",
   "execution_count": 508,
   "metadata": {},
   "outputs": [
    {
     "data": {
      "text/plain": [
       "array([[ 0.        ,  0.        ,  0.        ,  0.        ],\n",
       "       [ 0.        ,  0.        ,  0.        ,  0.        ],\n",
       "       [ 2.85914091,  2.85914091,  2.85914091,  3.97651621],\n",
       "       [ 5.63594091,  5.63594091,  5.63594091, 17.73009665]])"
      ]
     },
     "execution_count": 508,
     "metadata": {},
     "output_type": "execute_result"
    }
   ],
   "source": [
    "np.matmul(p_prior,np.exp(const))"
   ]
  },
  {
   "cell_type": "code",
   "execution_count": 509,
   "metadata": {},
   "outputs": [
    {
     "data": {
      "text/plain": [
       "array([[0.     , 0.     , 0.     , 0.     ],\n",
       "       [0.     , 0.     , 0.     , 0.     ],\n",
       "       [0.     , 0.     , 0.     , 0.     ],\n",
       "       [0.3    , 0.3    , 0.3    , 1.96608]])"
      ]
     },
     "execution_count": 509,
     "metadata": {},
     "output_type": "execute_result"
    }
   ],
   "source": [
    "np.matmul(np.outer(s,s),p_prior)*lr"
   ]
  },
  {
   "cell_type": "code",
   "execution_count": 510,
   "metadata": {},
   "outputs": [
    {
     "data": {
      "text/plain": [
       "array([[0.     , 0.     , 0.     , 0.     ],\n",
       "       [0.     , 0.     , 0.     , 0.     ],\n",
       "       [0.     , 0.     , 0.     , 0.     ],\n",
       "       [0.     , 0.     , 0.     , 1.96608]])"
      ]
     },
     "execution_count": 510,
     "metadata": {},
     "output_type": "execute_result"
    }
   ],
   "source": [
    "np.multiply(np.outer(s,s),p_prior)*lr"
   ]
  },
  {
   "cell_type": "code",
   "execution_count": 511,
   "metadata": {},
   "outputs": [],
   "source": [
    "const = np.eye(4) + lr * v"
   ]
  },
  {
   "cell_type": "code",
   "execution_count": 512,
   "metadata": {},
   "outputs": [
    {
     "data": {
      "text/plain": [
       "array([[0.        , 0.        , 0.        , 0.        ],\n",
       "       [0.        , 0.        , 0.        , 0.        ],\n",
       "       [0.5       , 0.5       , 0.18393972, 0.5       ],\n",
       "       [0.5       , 0.5       , 0.5       , 1.75394465]])"
      ]
     },
     "execution_count": 512,
     "metadata": {},
     "output_type": "execute_result"
    }
   ],
   "source": [
    "p_prior*np.exp(-1*np.linalg.inv(const))"
   ]
  },
  {
   "cell_type": "code",
   "execution_count": 513,
   "metadata": {},
   "outputs": [
    {
     "data": {
      "text/plain": [
       "array([[0.36787944, 1.        , 1.        , 1.        ],\n",
       "       [1.        , 0.36787944, 1.        , 1.        ],\n",
       "       [1.        , 1.        , 0.36787944, 1.        ],\n",
       "       [1.        , 1.        , 1.        , 0.20189652]])"
      ]
     },
     "execution_count": 513,
     "metadata": {},
     "output_type": "execute_result"
    }
   ],
   "source": [
    "np.exp(-1*const)"
   ]
  },
  {
   "cell_type": "code",
   "execution_count": 514,
   "metadata": {},
   "outputs": [
    {
     "data": {
      "text/plain": [
       "array([[0.     , 0.     , 0.     , 0.     ],\n",
       "       [0.     , 0.     , 0.     , 0.     ],\n",
       "       [0.     , 0.     , 0.5    , 0.     ],\n",
       "       [0.     , 0.     , 0.     , 5.24288]])"
      ]
     },
     "execution_count": 514,
     "metadata": {},
     "output_type": "execute_result"
    }
   ],
   "source": [
    "const * p_prior"
   ]
  },
  {
   "cell_type": "code",
   "execution_count": 515,
   "metadata": {},
   "outputs": [
    {
     "data": {
      "text/plain": [
       "array([[0.        , 0.        , 0.        , 0.        ],\n",
       "       [0.        , 0.        , 0.        , 0.        ],\n",
       "       [0.5       , 0.5       , 0.18393972, 0.5       ],\n",
       "       [0.5       , 0.5       , 0.5       , 0.66157451]])"
      ]
     },
     "execution_count": 515,
     "metadata": {},
     "output_type": "execute_result"
    }
   ],
   "source": [
    "np.multiply(np.exp(-1*const),p_prior)"
   ]
  },
  {
   "cell_type": "code",
   "execution_count": 516,
   "metadata": {},
   "outputs": [],
   "source": [
    "v = np.outer(s,s)"
   ]
  },
  {
   "cell_type": "code",
   "execution_count": 517,
   "metadata": {},
   "outputs": [
    {
     "data": {
      "text/plain": [
       "array([[0, 0, 0, 0],\n",
       "       [0, 0, 0, 0],\n",
       "       [0, 0, 0, 0],\n",
       "       [0, 0, 0, 1]])"
      ]
     },
     "execution_count": 517,
     "metadata": {},
     "output_type": "execute_result"
    }
   ],
   "source": [
    "v"
   ]
  },
  {
   "cell_type": "code",
   "execution_count": 518,
   "metadata": {},
   "outputs": [],
   "source": [
    "const = np.eye(4) + lr*v"
   ]
  },
  {
   "cell_type": "code",
   "execution_count": 519,
   "metadata": {},
   "outputs": [
    {
     "data": {
      "text/plain": [
       "array([ 4.16815417e+00,  4.31845831e-01,  1.40511229e-16, -5.46509731e-18])"
      ]
     },
     "execution_count": 519,
     "metadata": {},
     "output_type": "execute_result"
    }
   ],
   "source": [
    "eig"
   ]
  },
  {
   "cell_type": "code",
   "execution_count": 520,
   "metadata": {},
   "outputs": [
    {
     "data": {
      "text/plain": [
       "array([[-0.00000000e+00,  0.00000000e+00,  0.00000000e+00,\n",
       "         0.00000000e+00],\n",
       "       [-0.00000000e+00,  0.00000000e+00,  0.00000000e+00,\n",
       "         0.00000000e+00],\n",
       "       [-9.97567616e-01,  6.97054660e-02, -2.37185561e-17,\n",
       "         1.06436917e-16],\n",
       "       [-9.97567616e-01,  6.97054660e-02, -2.37185561e-17,\n",
       "         9.38418968e-16]])"
      ]
     },
     "execution_count": 520,
     "metadata": {},
     "output_type": "execute_result"
    }
   ],
   "source": [
    "np.multiply(p_prior, eigv[0]) + np.multiply(p_prior, eigv[1]) + np.multiply(p_prior,eigv[2]) + np.multiply(p_prior,eigv[3])"
   ]
  },
  {
   "cell_type": "code",
   "execution_count": 521,
   "metadata": {},
   "outputs": [],
   "source": [
    "v1, v2, v3, v4 = eigv"
   ]
  },
  {
   "cell_type": "code",
   "execution_count": 522,
   "metadata": {},
   "outputs": [
    {
     "data": {
      "text/plain": [
       "array([-0.47866157,  0.3228257 ,  0.76636945,  0.07401016])"
      ]
     },
     "execution_count": 522,
     "metadata": {},
     "output_type": "execute_result"
    }
   ],
   "source": [
    "v1"
   ]
  },
  {
   "cell_type": "code",
   "execution_count": 523,
   "metadata": {},
   "outputs": [
    {
     "data": {
      "text/plain": [
       "array([[0.    , 0.    , 0.    , 0.    ],\n",
       "       [0.    , 0.    , 0.    , 0.    ],\n",
       "       [0.5   , 0.5   , 0.5   , 0.5   ],\n",
       "       [0.5   , 0.5   , 0.5   , 3.2768]])"
      ]
     },
     "execution_count": 523,
     "metadata": {},
     "output_type": "execute_result"
    }
   ],
   "source": [
    "p_prior"
   ]
  },
  {
   "cell_type": "code",
   "execution_count": 524,
   "metadata": {},
   "outputs": [
    {
     "data": {
      "text/plain": [
       "array([[-0.00000000e+00, -0.00000000e+00, -0.00000000e+00,\n",
       "        -0.00000000e+00],\n",
       "       [-0.00000000e+00, -0.00000000e+00, -0.00000000e+00,\n",
       "        -0.00000000e+00],\n",
       "       [-2.79575256e-01, -4.14533082e-01, -1.76374222e-16,\n",
       "        -6.00965365e-17],\n",
       "       [-2.79575256e-01, -4.14533082e-01, -1.76374222e-16,\n",
       "        -3.93848661e-16]])"
      ]
     },
     "execution_count": 524,
     "metadata": {},
     "output_type": "execute_result"
    }
   ],
   "source": [
    "p_prior*v4"
   ]
  },
  {
   "cell_type": "code",
   "execution_count": 525,
   "metadata": {},
   "outputs": [
    {
     "data": {
      "text/plain": [
       "array([[-0.        ,  0.        ,  0.        ,  0.        ],\n",
       "       [-0.        ,  0.        ,  0.        ,  0.        ],\n",
       "       [-0.23933079,  0.16141285,  0.38318473,  0.03700508],\n",
       "       [-0.23933079,  0.16141285,  0.38318473,  0.24251649]])"
      ]
     },
     "execution_count": 525,
     "metadata": {},
     "output_type": "execute_result"
    }
   ],
   "source": [
    "p_prior*v1"
   ]
  },
  {
   "cell_type": "code",
   "execution_count": 526,
   "metadata": {},
   "outputs": [],
   "source": [
    "t=1"
   ]
  },
  {
   "cell_type": "code",
   "execution_count": 527,
   "metadata": {},
   "outputs": [
    {
     "ename": "SyntaxError",
     "evalue": "unexpected EOF while parsing (<ipython-input-527-8015600c569a>, line 1)",
     "output_type": "error",
     "traceback": [
      "\u001b[0;36m  File \u001b[0;32m\"<ipython-input-527-8015600c569a>\"\u001b[0;36m, line \u001b[0;32m1\u001b[0m\n\u001b[0;31m    (np.exp(t)*v1 + np.exp(t)*(t*v2) + np.exp(t)*(t*t*v3 + np.exp(t*8/5)*v4)\u001b[0m\n\u001b[0m                                                                            ^\u001b[0m\n\u001b[0;31mSyntaxError\u001b[0m\u001b[0;31m:\u001b[0m unexpected EOF while parsing\n"
     ]
    }
   ],
   "source": [
    "(np.exp(t)*v1 + np.exp(t)*(t*v2) + np.exp(t)*(t*t*v3 + np.exp(t*8/5)*v4)"
   ]
  },
  {
   "cell_type": "code",
   "execution_count": null,
   "metadata": {},
   "outputs": [],
   "source": [
    "def pls(t):\n",
    "    return np.multiply((np.exp(t)*v1 + np.exp(t)*(t*v1+v2) + np.exp(t)*(t*t*v1 + t*v2 + v3) + np.exp(t*8/5)*v4),p_prior)"
   ]
  },
  {
   "cell_type": "code",
   "execution_count": null,
   "metadata": {},
   "outputs": [],
   "source": [
    "def pls(t):\n",
    "    return p_prior* ( np.exp(t)*(v3) + np.exp(t*8/5)*v4)"
   ]
  },
  {
   "cell_type": "code",
   "execution_count": null,
   "metadata": {},
   "outputs": [
    {
     "data": {
      "text/plain": [
       "array([[0. , 0. , 0. , 0. ],\n",
       "       [0. , 0. , 0. , 0. ],\n",
       "       [0. , 0. , 0.5, 0. ],\n",
       "       [0. , 0. , 0.5, 0. ]])"
      ]
     },
     "execution_count": 387,
     "metadata": {},
     "output_type": "execute_result"
    }
   ],
   "source": [
    "p_prior*v3"
   ]
  },
  {
   "cell_type": "code",
   "execution_count": null,
   "metadata": {},
   "outputs": [
    {
     "data": {
      "text/plain": [
       "array([[0.        , 0.        , 0.        , 0.        ],\n",
       "       [0.        , 0.        , 0.        , 0.        ],\n",
       "       [0.        , 0.        , 1.35914091, 2.47651621],\n",
       "       [0.        , 0.        , 1.35914091, 2.47651621]])"
      ]
     },
     "execution_count": 386,
     "metadata": {},
     "output_type": "execute_result"
    }
   ],
   "source": [
    "pls(1)"
   ]
  },
  {
   "cell_type": "code",
   "execution_count": null,
   "metadata": {},
   "outputs": [
    {
     "data": {
      "text/plain": [
       "array([[0. , 0. , 0. , 0. ],\n",
       "       [0. , 0. , 0. , 0. ],\n",
       "       [0.5, 0.5, 0.5, 0.5],\n",
       "       [0.5, 0.5, 0.5, 0.5]])"
      ]
     },
     "execution_count": 378,
     "metadata": {},
     "output_type": "execute_result"
    }
   ],
   "source": [
    "p_prior"
   ]
  },
  {
   "cell_type": "code",
   "execution_count": null,
   "metadata": {},
   "outputs": [
    {
     "data": {
      "text/plain": [
       "array([[0. , 0. , 0. , 0. ],\n",
       "       [0. , 0. , 0. , 0. ],\n",
       "       [0. , 0. , 0. , 0.5],\n",
       "       [0. , 0. , 0. , 0.5]])"
      ]
     },
     "execution_count": 382,
     "metadata": {},
     "output_type": "execute_result"
    }
   ],
   "source": [
    "np.multiply(v4,p_prior)"
   ]
  },
  {
   "cell_type": "code",
   "execution_count": null,
   "metadata": {},
   "outputs": [
    {
     "data": {
      "text/plain": [
       "array([2.71828183, 1.        , 1.        , 1.        ])"
      ]
     },
     "execution_count": 377,
     "metadata": {},
     "output_type": "execute_result"
    }
   ],
   "source": [
    "np.dot(np.exp(np.eye(4,4)),v1)"
   ]
  },
  {
   "cell_type": "code",
   "execution_count": null,
   "metadata": {},
   "outputs": [
    {
     "data": {
      "text/plain": [
       "array([[0.        , 0.        , 0.        , 0.        ],\n",
       "       [0.        , 0.        , 0.        , 0.        ],\n",
       "       [1.35914091, 0.        , 0.        , 0.        ],\n",
       "       [1.35914091, 0.        , 0.        , 0.        ]])"
      ]
     },
     "execution_count": 370,
     "metadata": {},
     "output_type": "execute_result"
    }
   ],
   "source": [
    "np.multiply(np.dot(v1, np.exp(t)),p_prior)"
   ]
  },
  {
   "cell_type": "code",
   "execution_count": null,
   "metadata": {},
   "outputs": [
    {
     "data": {
      "text/plain": [
       "array([[0.        , 0.        , 0.        , 0.        ],\n",
       "       [0.        , 0.        , 0.        , 0.        ],\n",
       "       [4.07742274, 2.71828183, 1.35914091, 2.47651621],\n",
       "       [4.07742274, 2.71828183, 1.35914091, 2.47651621]])"
      ]
     },
     "execution_count": 361,
     "metadata": {},
     "output_type": "execute_result"
    }
   ],
   "source": [
    "pls(1)"
   ]
  },
  {
   "cell_type": "code",
   "execution_count": null,
   "metadata": {},
   "outputs": [
    {
     "data": {
      "text/plain": [
       "array([[2.71828183, 0.        , 0.        , 0.        ],\n",
       "       [0.        , 2.71828183, 0.        , 0.        ],\n",
       "       [0.        , 0.        , 2.71828183, 0.        ],\n",
       "       [0.        , 0.        , 0.        , 4.95303242]])"
      ]
     },
     "execution_count": 267,
     "metadata": {},
     "output_type": "execute_result"
    }
   ],
   "source": [
    "q"
   ]
  },
  {
   "cell_type": "code",
   "execution_count": null,
   "metadata": {},
   "outputs": [
    {
     "data": {
      "text/plain": [
       "array([[1., 0., 0., 0.],\n",
       "       [0., 1., 0., 0.],\n",
       "       [0., 0., 1., 0.],\n",
       "       [0., 0., 0., 1.]])"
      ]
     },
     "execution_count": 266,
     "metadata": {},
     "output_type": "execute_result"
    }
   ],
   "source": [
    "q / q.sum(axis=0)"
   ]
  },
  {
   "cell_type": "markdown",
   "metadata": {},
   "source": []
  },
  {
   "cell_type": "code",
   "execution_count": null,
   "metadata": {},
   "outputs": [
    {
     "data": {
      "text/plain": [
       "[1,\n",
       " 1,\n",
       " 1,\n",
       " 1,\n",
       " 1,\n",
       " 1,\n",
       " 0,\n",
       " 1,\n",
       " 0,\n",
       " 1,\n",
       " 0,\n",
       " 1,\n",
       " 0,\n",
       " 1,\n",
       " 0,\n",
       " 1,\n",
       " 0,\n",
       " 1,\n",
       " 0,\n",
       " 1,\n",
       " 0,\n",
       " 0,\n",
       " 0,\n",
       " 0,\n",
       " 0,\n",
       " 0,\n",
       " 0,\n",
       " 0,\n",
       " 0,\n",
       " 0,\n",
       " 0,\n",
       " 0,\n",
       " 0,\n",
       " 0,\n",
       " 0,\n",
       " 0,\n",
       " 0,\n",
       " 0,\n",
       " 0,\n",
       " 0,\n",
       " 0,\n",
       " 0,\n",
       " 0,\n",
       " 0,\n",
       " 0,\n",
       " 0,\n",
       " 0,\n",
       " 0,\n",
       " 0,\n",
       " 0,\n",
       " 0,\n",
       " 0,\n",
       " 0,\n",
       " 0,\n",
       " 0,\n",
       " 0,\n",
       " 0,\n",
       " 0,\n",
       " 0,\n",
       " 0,\n",
       " 0,\n",
       " 0,\n",
       " 0,\n",
       " 0,\n",
       " 0,\n",
       " 0,\n",
       " 0,\n",
       " 0,\n",
       " 0,\n",
       " 0,\n",
       " 0,\n",
       " 0,\n",
       " 0,\n",
       " 0,\n",
       " 0,\n",
       " 0,\n",
       " 0,\n",
       " 0,\n",
       " 0,\n",
       " 0,\n",
       " 0,\n",
       " 0,\n",
       " 0,\n",
       " 0,\n",
       " 0,\n",
       " 0,\n",
       " 0,\n",
       " 0,\n",
       " 0,\n",
       " 0,\n",
       " 0,\n",
       " 0,\n",
       " 0,\n",
       " 0,\n",
       " 0,\n",
       " 0,\n",
       " 0,\n",
       " 0,\n",
       " 0,\n",
       " 0,\n",
       " 0,\n",
       " 0,\n",
       " 0,\n",
       " 0,\n",
       " 0,\n",
       " 0,\n",
       " 0,\n",
       " 0,\n",
       " 0,\n",
       " 0,\n",
       " 0,\n",
       " 0,\n",
       " 0,\n",
       " 0,\n",
       " 0,\n",
       " 0,\n",
       " 0,\n",
       " 0,\n",
       " 0,\n",
       " 0,\n",
       " 0,\n",
       " 0,\n",
       " 0,\n",
       " 0,\n",
       " 0,\n",
       " 0,\n",
       " 0,\n",
       " 0,\n",
       " 0,\n",
       " 0,\n",
       " 0,\n",
       " 0,\n",
       " 0,\n",
       " 0,\n",
       " 0,\n",
       " 0,\n",
       " 0,\n",
       " 0,\n",
       " 0,\n",
       " 0,\n",
       " 0,\n",
       " 0,\n",
       " 0,\n",
       " 0,\n",
       " 0,\n",
       " 0,\n",
       " 0,\n",
       " 0,\n",
       " 0,\n",
       " 0,\n",
       " 0,\n",
       " 0,\n",
       " 0,\n",
       " 0,\n",
       " 0,\n",
       " 0,\n",
       " 0,\n",
       " 0,\n",
       " 0,\n",
       " 0,\n",
       " 0,\n",
       " 0,\n",
       " 0,\n",
       " 0,\n",
       " 0,\n",
       " 0,\n",
       " 0,\n",
       " 0,\n",
       " 0,\n",
       " 0,\n",
       " 0,\n",
       " 0,\n",
       " 0,\n",
       " 0,\n",
       " 0,\n",
       " 0,\n",
       " 0,\n",
       " 0,\n",
       " 0,\n",
       " 0,\n",
       " 0,\n",
       " 0,\n",
       " 0,\n",
       " 0,\n",
       " 0,\n",
       " 0,\n",
       " 0,\n",
       " 0,\n",
       " 0,\n",
       " 0,\n",
       " 0,\n",
       " 0,\n",
       " 0,\n",
       " 0,\n",
       " 0,\n",
       " 0,\n",
       " 0,\n",
       " 0,\n",
       " 0,\n",
       " 0,\n",
       " 0,\n",
       " 0,\n",
       " 0,\n",
       " 0,\n",
       " 0,\n",
       " 0,\n",
       " 0,\n",
       " 0,\n",
       " 0,\n",
       " 0,\n",
       " 0,\n",
       " 0,\n",
       " 0,\n",
       " 0,\n",
       " 0,\n",
       " 0,\n",
       " 0,\n",
       " 0,\n",
       " 0,\n",
       " 0,\n",
       " 0,\n",
       " 0,\n",
       " 0,\n",
       " 0,\n",
       " 0,\n",
       " 0,\n",
       " 0,\n",
       " 0,\n",
       " 0,\n",
       " 0,\n",
       " 0,\n",
       " 0,\n",
       " 0,\n",
       " 0,\n",
       " 0,\n",
       " 0,\n",
       " 0,\n",
       " 0,\n",
       " 0,\n",
       " 0,\n",
       " 0,\n",
       " 0,\n",
       " 0,\n",
       " 0,\n",
       " 0,\n",
       " 0,\n",
       " 0,\n",
       " 0,\n",
       " 0,\n",
       " 0,\n",
       " 0,\n",
       " 0,\n",
       " 0,\n",
       " 0,\n",
       " 0,\n",
       " 0,\n",
       " 0,\n",
       " 0,\n",
       " 0,\n",
       " 0,\n",
       " 0,\n",
       " 0,\n",
       " 0,\n",
       " 0,\n",
       " 0,\n",
       " 0,\n",
       " 0,\n",
       " 0,\n",
       " 0,\n",
       " 0,\n",
       " 0,\n",
       " 0,\n",
       " 0,\n",
       " 0,\n",
       " 0,\n",
       " 0,\n",
       " 0,\n",
       " 0,\n",
       " 0,\n",
       " 0,\n",
       " 0,\n",
       " 0,\n",
       " 0,\n",
       " 0,\n",
       " 0,\n",
       " 0,\n",
       " 0,\n",
       " 0,\n",
       " 0,\n",
       " 0,\n",
       " 0,\n",
       " 0,\n",
       " 0,\n",
       " 0,\n",
       " 0,\n",
       " 0,\n",
       " 0,\n",
       " 0,\n",
       " 0,\n",
       " 0,\n",
       " 0,\n",
       " 0,\n",
       " 0,\n",
       " 0,\n",
       " 0,\n",
       " 0,\n",
       " 0,\n",
       " 0,\n",
       " 0,\n",
       " 0,\n",
       " 0,\n",
       " 0,\n",
       " 0,\n",
       " 0,\n",
       " 0,\n",
       " 0,\n",
       " 0,\n",
       " 0,\n",
       " 0,\n",
       " 0,\n",
       " 0,\n",
       " 0,\n",
       " 0,\n",
       " 0,\n",
       " 0,\n",
       " 0,\n",
       " 0,\n",
       " 0,\n",
       " 0,\n",
       " 0,\n",
       " 0,\n",
       " 0,\n",
       " 0,\n",
       " 0,\n",
       " 0,\n",
       " 0,\n",
       " 0,\n",
       " 0,\n",
       " 0,\n",
       " 0,\n",
       " 0,\n",
       " 0,\n",
       " 0,\n",
       " 0,\n",
       " 0,\n",
       " 0,\n",
       " 0,\n",
       " 0,\n",
       " 0,\n",
       " 0,\n",
       " 0,\n",
       " 0,\n",
       " 0,\n",
       " 0,\n",
       " 0,\n",
       " 0,\n",
       " 0,\n",
       " 0,\n",
       " 0,\n",
       " 0,\n",
       " 0,\n",
       " 0,\n",
       " 0,\n",
       " 0,\n",
       " 0,\n",
       " 0,\n",
       " 0,\n",
       " 0,\n",
       " 0,\n",
       " 0,\n",
       " 0,\n",
       " 0,\n",
       " 0,\n",
       " 0,\n",
       " 0,\n",
       " 0,\n",
       " 0,\n",
       " 0,\n",
       " 0,\n",
       " 0,\n",
       " 0,\n",
       " 0,\n",
       " 0,\n",
       " 0,\n",
       " 0,\n",
       " 0,\n",
       " 0,\n",
       " 0,\n",
       " 0,\n",
       " 0,\n",
       " 0,\n",
       " 0,\n",
       " 0,\n",
       " 0,\n",
       " 0,\n",
       " 0,\n",
       " 0,\n",
       " 0,\n",
       " 0,\n",
       " 0,\n",
       " 0,\n",
       " 0,\n",
       " 0,\n",
       " 0,\n",
       " 0,\n",
       " 0,\n",
       " 0,\n",
       " 0,\n",
       " 0,\n",
       " 0,\n",
       " 0,\n",
       " 0,\n",
       " 0,\n",
       " 0,\n",
       " 0,\n",
       " 0,\n",
       " 0,\n",
       " 0,\n",
       " 0,\n",
       " 0,\n",
       " 0,\n",
       " 0,\n",
       " 0,\n",
       " 0,\n",
       " 0,\n",
       " 0,\n",
       " 0,\n",
       " 0,\n",
       " 0,\n",
       " 0,\n",
       " 0,\n",
       " 0,\n",
       " 0,\n",
       " 0,\n",
       " 0,\n",
       " 0,\n",
       " 0,\n",
       " 0,\n",
       " 0,\n",
       " 0,\n",
       " 0,\n",
       " 0,\n",
       " 0,\n",
       " 0,\n",
       " 0,\n",
       " 0,\n",
       " 0,\n",
       " 0,\n",
       " 0,\n",
       " 0,\n",
       " 0,\n",
       " 0,\n",
       " 0,\n",
       " 0,\n",
       " 0,\n",
       " 0,\n",
       " 0,\n",
       " 0,\n",
       " 0,\n",
       " 0,\n",
       " 0,\n",
       " 0,\n",
       " 0,\n",
       " 0,\n",
       " 0,\n",
       " 0,\n",
       " 0,\n",
       " 0,\n",
       " 0,\n",
       " 0,\n",
       " 0,\n",
       " 0,\n",
       " 0,\n",
       " 0,\n",
       " 0,\n",
       " 0,\n",
       " 0,\n",
       " 0,\n",
       " 0,\n",
       " 0,\n",
       " 0,\n",
       " 0,\n",
       " 0,\n",
       " 0,\n",
       " 0,\n",
       " 0,\n",
       " 0,\n",
       " 0,\n",
       " 0,\n",
       " 0,\n",
       " 0,\n",
       " 0,\n",
       " 0,\n",
       " 0,\n",
       " 0,\n",
       " 0,\n",
       " 0,\n",
       " 0,\n",
       " 0,\n",
       " 0,\n",
       " 0,\n",
       " 0,\n",
       " 0,\n",
       " 0,\n",
       " 0,\n",
       " 0,\n",
       " 0,\n",
       " 0,\n",
       " 0,\n",
       " 0,\n",
       " 0,\n",
       " 0,\n",
       " 0,\n",
       " 0,\n",
       " 0,\n",
       " 0,\n",
       " 0,\n",
       " 0,\n",
       " 0,\n",
       " 0,\n",
       " 0,\n",
       " 0,\n",
       " 0,\n",
       " 0,\n",
       " 0,\n",
       " 0,\n",
       " 0,\n",
       " 0,\n",
       " 0,\n",
       " 0,\n",
       " 0,\n",
       " 0,\n",
       " 0,\n",
       " 0,\n",
       " 0,\n",
       " 0,\n",
       " 0,\n",
       " 0,\n",
       " 0,\n",
       " 0,\n",
       " 0,\n",
       " 0,\n",
       " 0,\n",
       " 0,\n",
       " 0,\n",
       " 0,\n",
       " 0,\n",
       " 0,\n",
       " 0,\n",
       " 0,\n",
       " 0,\n",
       " 0,\n",
       " 0,\n",
       " 0,\n",
       " 0,\n",
       " 0,\n",
       " 0,\n",
       " 0,\n",
       " 0,\n",
       " 0,\n",
       " 0,\n",
       " 0,\n",
       " 0,\n",
       " 0,\n",
       " 0,\n",
       " 0,\n",
       " 0,\n",
       " 0,\n",
       " 0,\n",
       " 0,\n",
       " 0,\n",
       " 0,\n",
       " 0,\n",
       " 0,\n",
       " 0,\n",
       " 0,\n",
       " 0,\n",
       " 0,\n",
       " 0,\n",
       " 0,\n",
       " 0,\n",
       " 0,\n",
       " 0,\n",
       " 0,\n",
       " 0,\n",
       " 0,\n",
       " 0,\n",
       " 0,\n",
       " 0,\n",
       " 0,\n",
       " 0,\n",
       " 0,\n",
       " 0,\n",
       " 0,\n",
       " 0,\n",
       " 0,\n",
       " 0,\n",
       " 0,\n",
       " 0,\n",
       " 0,\n",
       " 0,\n",
       " 0,\n",
       " 0,\n",
       " 0,\n",
       " 0,\n",
       " 0,\n",
       " 0,\n",
       " 0,\n",
       " 0,\n",
       " 0,\n",
       " 0,\n",
       " 0,\n",
       " 0,\n",
       " 0,\n",
       " 0,\n",
       " 0,\n",
       " 0,\n",
       " 0,\n",
       " 0,\n",
       " 0,\n",
       " 0,\n",
       " 0,\n",
       " 0,\n",
       " 0,\n",
       " 0,\n",
       " 0,\n",
       " 0,\n",
       " 0,\n",
       " 0,\n",
       " 0,\n",
       " 0,\n",
       " 0,\n",
       " 0,\n",
       " 0,\n",
       " 0,\n",
       " 0,\n",
       " 0,\n",
       " 0,\n",
       " 0,\n",
       " 0,\n",
       " 0,\n",
       " 0,\n",
       " 0,\n",
       " 0,\n",
       " 0,\n",
       " 0,\n",
       " 0,\n",
       " 0,\n",
       " 0,\n",
       " 0,\n",
       " 0,\n",
       " 0,\n",
       " 0,\n",
       " 0,\n",
       " 0,\n",
       " 0,\n",
       " 0,\n",
       " 0,\n",
       " 0,\n",
       " 0,\n",
       " 0,\n",
       " 0,\n",
       " 0,\n",
       " 0,\n",
       " 0,\n",
       " 0,\n",
       " 0,\n",
       " 0,\n",
       " 0,\n",
       " 0,\n",
       " 0,\n",
       " 0,\n",
       " 0,\n",
       " 0,\n",
       " 0,\n",
       " 0,\n",
       " 0,\n",
       " 0,\n",
       " 0,\n",
       " 0,\n",
       " 0,\n",
       " 0,\n",
       " 0,\n",
       " 0,\n",
       " 0,\n",
       " 0,\n",
       " 0,\n",
       " 0,\n",
       " 0,\n",
       " 0,\n",
       " 0,\n",
       " 0,\n",
       " 0,\n",
       " 0,\n",
       " 0,\n",
       " 0,\n",
       " 0,\n",
       " 0,\n",
       " 0,\n",
       " 0,\n",
       " 0,\n",
       " 0,\n",
       " 0,\n",
       " 0,\n",
       " 0,\n",
       " 0,\n",
       " 0,\n",
       " 0,\n",
       " 0,\n",
       " 0,\n",
       " 0,\n",
       " 0,\n",
       " 0,\n",
       " 0,\n",
       " 0,\n",
       " 0,\n",
       " 0,\n",
       " 0,\n",
       " 0,\n",
       " 0,\n",
       " 0,\n",
       " 0,\n",
       " 0,\n",
       " 0,\n",
       " 0,\n",
       " 0,\n",
       " 0,\n",
       " 0,\n",
       " 0,\n",
       " 0,\n",
       " 0,\n",
       " 0,\n",
       " 0,\n",
       " 0,\n",
       " 0,\n",
       " 0,\n",
       " 0,\n",
       " 0,\n",
       " 0,\n",
       " 0,\n",
       " 0,\n",
       " 0,\n",
       " 0,\n",
       " 0,\n",
       " 0,\n",
       " 0,\n",
       " 0,\n",
       " 0,\n",
       " 0,\n",
       " 0,\n",
       " 0,\n",
       " 0,\n",
       " 0,\n",
       " 0,\n",
       " 0,\n",
       " 0,\n",
       " 0,\n",
       " 0,\n",
       " 0,\n",
       " 0,\n",
       " 0,\n",
       " 0,\n",
       " 0,\n",
       " 0,\n",
       " 0,\n",
       " 0,\n",
       " 0,\n",
       " 0,\n",
       " 0,\n",
       " 0,\n",
       " 0,\n",
       " 0,\n",
       " 0,\n",
       " 0,\n",
       " 0,\n",
       " 0,\n",
       " 0,\n",
       " 0,\n",
       " 0,\n",
       " 0,\n",
       " 0,\n",
       " 0,\n",
       " 0,\n",
       " 0,\n",
       " 0,\n",
       " 0,\n",
       " 0,\n",
       " 0,\n",
       " 0,\n",
       " 0,\n",
       " 0,\n",
       " 0,\n",
       " 0,\n",
       " 0,\n",
       " 0,\n",
       " 0,\n",
       " 0,\n",
       " 0,\n",
       " 0,\n",
       " 0,\n",
       " 0,\n",
       " 0,\n",
       " 0,\n",
       " 0,\n",
       " 0,\n",
       " 0,\n",
       " 0,\n",
       " 0,\n",
       " 0,\n",
       " 0,\n",
       " 0,\n",
       " 0,\n",
       " 0,\n",
       " 0,\n",
       " 0,\n",
       " 0,\n",
       " 0,\n",
       " 0,\n",
       " 0,\n",
       " 0,\n",
       " 0,\n",
       " 0,\n",
       " 0,\n",
       " 0,\n",
       " 0,\n",
       " 0,\n",
       " 0,\n",
       " 0,\n",
       " 0,\n",
       " 0,\n",
       " 0,\n",
       " 0,\n",
       " 0,\n",
       " 0,\n",
       " 0,\n",
       " 0,\n",
       " 0,\n",
       " 0,\n",
       " 0,\n",
       " 0,\n",
       " 0,\n",
       " 0,\n",
       " 0,\n",
       " 0,\n",
       " 0,\n",
       " 0,\n",
       " 0,\n",
       " 0,\n",
       " 0,\n",
       " 0,\n",
       " 0,\n",
       " 0,\n",
       " 0,\n",
       " 0,\n",
       " 0,\n",
       " 0,\n",
       " 0,\n",
       " 0,\n",
       " 0,\n",
       " 0,\n",
       " 0,\n",
       " 0,\n",
       " 0,\n",
       " 0,\n",
       " 0,\n",
       " 0,\n",
       " 0,\n",
       " 0,\n",
       " 0,\n",
       " 0,\n",
       " 0,\n",
       " 0,\n",
       " 0,\n",
       " 0,\n",
       " 0,\n",
       " 0,\n",
       " 0,\n",
       " 0,\n",
       " 0,\n",
       " 0,\n",
       " 0,\n",
       " 0,\n",
       " 0,\n",
       " 0,\n",
       " 0,\n",
       " 0,\n",
       " 0,\n",
       " 0,\n",
       " 0,\n",
       " 0,\n",
       " 0,\n",
       " 0,\n",
       " 0,\n",
       " 0,\n",
       " 0,\n",
       " 0,\n",
       " 0,\n",
       " 0,\n",
       " 0,\n",
       " 0,\n",
       " 0,\n",
       " 0,\n",
       " 0,\n",
       " 0,\n",
       " 0,\n",
       " 0,\n",
       " 0,\n",
       " 0,\n",
       " 0,\n",
       " 0,\n",
       " 0,\n",
       " 0,\n",
       " 0,\n",
       " 0,\n",
       " 0,\n",
       " 0,\n",
       " 0,\n",
       " 0,\n",
       " 0,\n",
       " 0,\n",
       " 0,\n",
       " 0,\n",
       " 0,\n",
       " 0,\n",
       " 0,\n",
       " 0,\n",
       " 0,\n",
       " 0,\n",
       " 0,\n",
       " 0,\n",
       " 0,\n",
       " 0,\n",
       " 0,\n",
       " 0,\n",
       " 0,\n",
       " 0,\n",
       " 0,\n",
       " 0,\n",
       " 0,\n",
       " 0,\n",
       " 0,\n",
       " 0,\n",
       " 0,\n",
       " 0,\n",
       " 0,\n",
       " 0,\n",
       " 0,\n",
       " 0,\n",
       " 0,\n",
       " 0,\n",
       " 0,\n",
       " 0,\n",
       " 0,\n",
       " 0,\n",
       " 0,\n",
       " 0,\n",
       " 0,\n",
       " 0,\n",
       " 0,\n",
       " 0,\n",
       " 0,\n",
       " 0,\n",
       " 0,\n",
       " 0,\n",
       " 0,\n",
       " 0,\n",
       " 0,\n",
       " 0,\n",
       " 0,\n",
       " 0,\n",
       " 0,\n",
       " 0,\n",
       " 0,\n",
       " 0,\n",
       " 0,\n",
       " 0,\n",
       " 0,\n",
       " 0,\n",
       " 0,\n",
       " 0,\n",
       " 0,\n",
       " 0,\n",
       " 0,\n",
       " 0,\n",
       " 0,\n",
       " 0,\n",
       " 0,\n",
       " 0,\n",
       " 0,\n",
       " 0,\n",
       " 0,\n",
       " 0,\n",
       " 0,\n",
       " 0,\n",
       " 0,\n",
       " 0,\n",
       " 0,\n",
       " 0,\n",
       " 0,\n",
       " 0]"
      ]
     },
     "execution_count": 189,
     "metadata": {},
     "output_type": "execute_result"
    }
   ],
   "source": [
    "actions_over_time"
   ]
  },
  {
   "cell_type": "code",
   "execution_count": null,
   "metadata": {},
   "outputs": [],
   "source": []
  }
 ],
 "metadata": {
  "kernelspec": {
   "display_name": "Python 3.9.1 64-bit",
   "language": "python",
   "name": "python3"
  },
  "language_info": {
   "codemirror_mode": {
    "name": "ipython",
    "version": 3
   },
   "file_extension": ".py",
   "mimetype": "text/x-python",
   "name": "python",
   "nbconvert_exporter": "python",
   "pygments_lexer": "ipython3",
   "version": "3.9.1"
  },
  "orig_nbformat": 4,
  "vscode": {
   "interpreter": {
    "hash": "7812ea015bdcee6f23a998adcdd2ef97c151c0c241b7b7070987d9313e41299d"
   }
  }
 },
 "nbformat": 4,
 "nbformat_minor": 2
}
